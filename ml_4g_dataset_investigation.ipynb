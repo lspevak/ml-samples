{
 "cells": [
  {
   "cell_type": "markdown",
   "metadata": {},
   "source": [
    "# 4G dataset investigation [TODO]\n",
    "\n",
    "Source:\n",
    "- https://www.researchgate.net/publication/326027471_Beyond_throughput_a_4G_LTE_dataset_with_channel_and_context_metrics\n",
    "- https://zenodo.org/record/1219679#.XrBi1pmxVEY\n",
    "- https://www.ucc.ie/en/misl/research/datasets/ivid_4g_lte_dataset/\n"
   ]
  },
  {
   "cell_type": "code",
   "execution_count": 1,
   "metadata": {},
   "outputs": [],
   "source": [
    "%matplotlib inline\n",
    "import pandas as pd\n",
    "import numpy as np\n",
    "import matplotlib.pyplot as plt"
   ]
  },
  {
   "cell_type": "markdown",
   "metadata": {},
   "source": [
    "## 4G dataset analysis"
   ]
  },
  {
   "cell_type": "code",
   "execution_count": 2,
   "metadata": {},
   "outputs": [],
   "source": [
    "# load PIMA indians diabetes dataset\n",
    "dataset = pd.read_csv('4g/A_2017.11.30_16.48.26.csv')\n",
    "#2017.11.30_16.48.26\n",
    "dataset['Timestamp']= pd.to_datetime(dataset['Timestamp'], format='%Y.%m.%d_%H.%M.%S')\n",
    "dataset = dataset.set_index(pd.DatetimeIndex(dataset['Timestamp']))"
   ]
  },
  {
   "cell_type": "code",
   "execution_count": 3,
   "metadata": {},
   "outputs": [
    {
     "data": {
      "text/html": [
       "<div>\n",
       "<style scoped>\n",
       "    .dataframe tbody tr th:only-of-type {\n",
       "        vertical-align: middle;\n",
       "    }\n",
       "\n",
       "    .dataframe tbody tr th {\n",
       "        vertical-align: top;\n",
       "    }\n",
       "\n",
       "    .dataframe thead th {\n",
       "        text-align: right;\n",
       "    }\n",
       "</style>\n",
       "<table border=\"1\" class=\"dataframe\">\n",
       "  <thead>\n",
       "    <tr style=\"text-align: right;\">\n",
       "      <th></th>\n",
       "      <th>Timestamp</th>\n",
       "      <th>Longitude</th>\n",
       "      <th>Latitude</th>\n",
       "      <th>Speed</th>\n",
       "      <th>Operatorname</th>\n",
       "      <th>CellID</th>\n",
       "      <th>NetworkMode</th>\n",
       "      <th>RSRP</th>\n",
       "      <th>RSRQ</th>\n",
       "      <th>SNR</th>\n",
       "      <th>CQI</th>\n",
       "      <th>RSSI</th>\n",
       "      <th>DL_bitrate</th>\n",
       "      <th>UL_bitrate</th>\n",
       "      <th>State</th>\n",
       "      <th>NRxRSRP</th>\n",
       "      <th>NRxRSRQ</th>\n",
       "      <th>ServingCell_Lon</th>\n",
       "      <th>ServingCell_Lat</th>\n",
       "      <th>ServingCell_Distance</th>\n",
       "    </tr>\n",
       "    <tr>\n",
       "      <th>Timestamp</th>\n",
       "      <th></th>\n",
       "      <th></th>\n",
       "      <th></th>\n",
       "      <th></th>\n",
       "      <th></th>\n",
       "      <th></th>\n",
       "      <th></th>\n",
       "      <th></th>\n",
       "      <th></th>\n",
       "      <th></th>\n",
       "      <th></th>\n",
       "      <th></th>\n",
       "      <th></th>\n",
       "      <th></th>\n",
       "      <th></th>\n",
       "      <th></th>\n",
       "      <th></th>\n",
       "      <th></th>\n",
       "      <th></th>\n",
       "      <th></th>\n",
       "    </tr>\n",
       "  </thead>\n",
       "  <tbody>\n",
       "    <tr>\n",
       "      <th>2017-11-30 16:48:26</th>\n",
       "      <td>2017-11-30 16:48:26</td>\n",
       "      <td>-8.501373</td>\n",
       "      <td>51.893359</td>\n",
       "      <td>0</td>\n",
       "      <td>A</td>\n",
       "      <td>2</td>\n",
       "      <td>LTE</td>\n",
       "      <td>-102</td>\n",
       "      <td>-12</td>\n",
       "      <td>10.0</td>\n",
       "      <td>7</td>\n",
       "      <td>-85</td>\n",
       "      <td>3</td>\n",
       "      <td>7</td>\n",
       "      <td>D</td>\n",
       "      <td>-</td>\n",
       "      <td>-</td>\n",
       "      <td>-8.491719</td>\n",
       "      <td>51.893905</td>\n",
       "      <td>665.24000000000001</td>\n",
       "    </tr>\n",
       "    <tr>\n",
       "      <th>2017-11-30 16:48:26</th>\n",
       "      <td>2017-11-30 16:48:26</td>\n",
       "      <td>-8.501291</td>\n",
       "      <td>51.893462</td>\n",
       "      <td>1</td>\n",
       "      <td>A</td>\n",
       "      <td>2</td>\n",
       "      <td>LTE</td>\n",
       "      <td>-102</td>\n",
       "      <td>-12</td>\n",
       "      <td>10.0</td>\n",
       "      <td>7</td>\n",
       "      <td>-85</td>\n",
       "      <td>3</td>\n",
       "      <td>7</td>\n",
       "      <td>D</td>\n",
       "      <td>-</td>\n",
       "      <td>-</td>\n",
       "      <td>-8.491719</td>\n",
       "      <td>51.893905</td>\n",
       "      <td>658.67999999999995</td>\n",
       "    </tr>\n",
       "    <tr>\n",
       "      <th>2017-11-30 16:48:27</th>\n",
       "      <td>2017-11-30 16:48:27</td>\n",
       "      <td>-8.501291</td>\n",
       "      <td>51.893462</td>\n",
       "      <td>1</td>\n",
       "      <td>A</td>\n",
       "      <td>2</td>\n",
       "      <td>LTE</td>\n",
       "      <td>-102</td>\n",
       "      <td>-12</td>\n",
       "      <td>7.0</td>\n",
       "      <td>10</td>\n",
       "      <td>-87</td>\n",
       "      <td>310</td>\n",
       "      <td>14</td>\n",
       "      <td>D</td>\n",
       "      <td>-</td>\n",
       "      <td>-</td>\n",
       "      <td>-8.491719</td>\n",
       "      <td>51.893905</td>\n",
       "      <td>658.67999999999995</td>\n",
       "    </tr>\n",
       "    <tr>\n",
       "      <th>2017-11-30 16:48:28</th>\n",
       "      <td>2017-11-30 16:48:28</td>\n",
       "      <td>-8.501291</td>\n",
       "      <td>51.893462</td>\n",
       "      <td>1</td>\n",
       "      <td>A</td>\n",
       "      <td>2</td>\n",
       "      <td>LTE</td>\n",
       "      <td>-102</td>\n",
       "      <td>-12</td>\n",
       "      <td>7.0</td>\n",
       "      <td>7</td>\n",
       "      <td>-85</td>\n",
       "      <td>0</td>\n",
       "      <td>0</td>\n",
       "      <td>I</td>\n",
       "      <td>-</td>\n",
       "      <td>-</td>\n",
       "      <td>-8.491719</td>\n",
       "      <td>51.893905</td>\n",
       "      <td>658.67999999999995</td>\n",
       "    </tr>\n",
       "    <tr>\n",
       "      <th>2017-11-30 16:48:29</th>\n",
       "      <td>2017-11-30 16:48:29</td>\n",
       "      <td>-8.501291</td>\n",
       "      <td>51.893462</td>\n",
       "      <td>1</td>\n",
       "      <td>A</td>\n",
       "      <td>2</td>\n",
       "      <td>LTE</td>\n",
       "      <td>-102</td>\n",
       "      <td>-13</td>\n",
       "      <td>8.0</td>\n",
       "      <td>7</td>\n",
       "      <td>-85</td>\n",
       "      <td>0</td>\n",
       "      <td>0</td>\n",
       "      <td>I</td>\n",
       "      <td>-</td>\n",
       "      <td>-</td>\n",
       "      <td>-8.491719</td>\n",
       "      <td>51.893905</td>\n",
       "      <td>658.67999999999995</td>\n",
       "    </tr>\n",
       "    <tr>\n",
       "      <th>...</th>\n",
       "      <td>...</td>\n",
       "      <td>...</td>\n",
       "      <td>...</td>\n",
       "      <td>...</td>\n",
       "      <td>...</td>\n",
       "      <td>...</td>\n",
       "      <td>...</td>\n",
       "      <td>...</td>\n",
       "      <td>...</td>\n",
       "      <td>...</td>\n",
       "      <td>...</td>\n",
       "      <td>...</td>\n",
       "      <td>...</td>\n",
       "      <td>...</td>\n",
       "      <td>...</td>\n",
       "      <td>...</td>\n",
       "      <td>...</td>\n",
       "      <td>...</td>\n",
       "      <td>...</td>\n",
       "      <td>...</td>\n",
       "    </tr>\n",
       "    <tr>\n",
       "      <th>2017-11-30 17:04:24</th>\n",
       "      <td>2017-11-30 17:04:24</td>\n",
       "      <td>-8.556712</td>\n",
       "      <td>51.892251</td>\n",
       "      <td>46</td>\n",
       "      <td>A</td>\n",
       "      <td>1</td>\n",
       "      <td>LTE</td>\n",
       "      <td>-91</td>\n",
       "      <td>-12</td>\n",
       "      <td>3.0</td>\n",
       "      <td>12</td>\n",
       "      <td>-72</td>\n",
       "      <td>7068</td>\n",
       "      <td>128</td>\n",
       "      <td>D</td>\n",
       "      <td>-89.0</td>\n",
       "      <td>-10.0</td>\n",
       "      <td>-8.535593</td>\n",
       "      <td>51.880268</td>\n",
       "      <td>1968.8299999999999</td>\n",
       "    </tr>\n",
       "    <tr>\n",
       "      <th>2017-11-30 17:04:25</th>\n",
       "      <td>2017-11-30 17:04:25</td>\n",
       "      <td>-8.556712</td>\n",
       "      <td>51.892251</td>\n",
       "      <td>46</td>\n",
       "      <td>A</td>\n",
       "      <td>1</td>\n",
       "      <td>LTE</td>\n",
       "      <td>-91</td>\n",
       "      <td>-12</td>\n",
       "      <td>3.0</td>\n",
       "      <td>10</td>\n",
       "      <td>-69</td>\n",
       "      <td>8992</td>\n",
       "      <td>166</td>\n",
       "      <td>D</td>\n",
       "      <td>-89.0</td>\n",
       "      <td>-10.0</td>\n",
       "      <td>-8.535593</td>\n",
       "      <td>51.880268</td>\n",
       "      <td>1968.8299999999999</td>\n",
       "    </tr>\n",
       "    <tr>\n",
       "      <th>2017-11-30 17:04:26</th>\n",
       "      <td>2017-11-30 17:04:26</td>\n",
       "      <td>-8.556712</td>\n",
       "      <td>51.892251</td>\n",
       "      <td>46</td>\n",
       "      <td>A</td>\n",
       "      <td>1</td>\n",
       "      <td>LTE</td>\n",
       "      <td>-86</td>\n",
       "      <td>-11</td>\n",
       "      <td>5.0</td>\n",
       "      <td>9</td>\n",
       "      <td>-76</td>\n",
       "      <td>9584</td>\n",
       "      <td>177</td>\n",
       "      <td>D</td>\n",
       "      <td>-85.0</td>\n",
       "      <td>-9.0</td>\n",
       "      <td>-8.535593</td>\n",
       "      <td>51.880268</td>\n",
       "      <td>1968.8299999999999</td>\n",
       "    </tr>\n",
       "    <tr>\n",
       "      <th>2017-11-30 17:04:27</th>\n",
       "      <td>2017-11-30 17:04:27</td>\n",
       "      <td>-8.556712</td>\n",
       "      <td>51.892251</td>\n",
       "      <td>46</td>\n",
       "      <td>A</td>\n",
       "      <td>1</td>\n",
       "      <td>LTE</td>\n",
       "      <td>-86</td>\n",
       "      <td>-11</td>\n",
       "      <td>5.0</td>\n",
       "      <td>10</td>\n",
       "      <td>-74</td>\n",
       "      <td>11060</td>\n",
       "      <td>198</td>\n",
       "      <td>D</td>\n",
       "      <td>-85.0</td>\n",
       "      <td>-9.0</td>\n",
       "      <td>-8.535593</td>\n",
       "      <td>51.880268</td>\n",
       "      <td>1968.8299999999999</td>\n",
       "    </tr>\n",
       "    <tr>\n",
       "      <th>2017-11-30 17:04:27</th>\n",
       "      <td>2017-11-30 17:04:27</td>\n",
       "      <td>-8.556712</td>\n",
       "      <td>51.892251</td>\n",
       "      <td>46</td>\n",
       "      <td>A</td>\n",
       "      <td>1</td>\n",
       "      <td>LTE</td>\n",
       "      <td>-86</td>\n",
       "      <td>-11</td>\n",
       "      <td>5.0</td>\n",
       "      <td>5</td>\n",
       "      <td>-76</td>\n",
       "      <td>11060</td>\n",
       "      <td>198</td>\n",
       "      <td>D</td>\n",
       "      <td>-85.0</td>\n",
       "      <td>-9.0</td>\n",
       "      <td>-8.535593</td>\n",
       "      <td>51.880268</td>\n",
       "      <td>1968.8299999999999</td>\n",
       "    </tr>\n",
       "  </tbody>\n",
       "</table>\n",
       "<p>910 rows × 20 columns</p>\n",
       "</div>"
      ],
      "text/plain": [
       "                              Timestamp  Longitude   Latitude  Speed  \\\n",
       "Timestamp                                                              \n",
       "2017-11-30 16:48:26 2017-11-30 16:48:26  -8.501373  51.893359      0   \n",
       "2017-11-30 16:48:26 2017-11-30 16:48:26  -8.501291  51.893462      1   \n",
       "2017-11-30 16:48:27 2017-11-30 16:48:27  -8.501291  51.893462      1   \n",
       "2017-11-30 16:48:28 2017-11-30 16:48:28  -8.501291  51.893462      1   \n",
       "2017-11-30 16:48:29 2017-11-30 16:48:29  -8.501291  51.893462      1   \n",
       "...                                 ...        ...        ...    ...   \n",
       "2017-11-30 17:04:24 2017-11-30 17:04:24  -8.556712  51.892251     46   \n",
       "2017-11-30 17:04:25 2017-11-30 17:04:25  -8.556712  51.892251     46   \n",
       "2017-11-30 17:04:26 2017-11-30 17:04:26  -8.556712  51.892251     46   \n",
       "2017-11-30 17:04:27 2017-11-30 17:04:27  -8.556712  51.892251     46   \n",
       "2017-11-30 17:04:27 2017-11-30 17:04:27  -8.556712  51.892251     46   \n",
       "\n",
       "                    Operatorname  CellID NetworkMode  RSRP  RSRQ   SNR  CQI  \\\n",
       "Timestamp                                                                     \n",
       "2017-11-30 16:48:26            A       2         LTE  -102   -12  10.0    7   \n",
       "2017-11-30 16:48:26            A       2         LTE  -102   -12  10.0    7   \n",
       "2017-11-30 16:48:27            A       2         LTE  -102   -12   7.0   10   \n",
       "2017-11-30 16:48:28            A       2         LTE  -102   -12   7.0    7   \n",
       "2017-11-30 16:48:29            A       2         LTE  -102   -13   8.0    7   \n",
       "...                          ...     ...         ...   ...   ...   ...  ...   \n",
       "2017-11-30 17:04:24            A       1         LTE   -91   -12   3.0   12   \n",
       "2017-11-30 17:04:25            A       1         LTE   -91   -12   3.0   10   \n",
       "2017-11-30 17:04:26            A       1         LTE   -86   -11   5.0    9   \n",
       "2017-11-30 17:04:27            A       1         LTE   -86   -11   5.0   10   \n",
       "2017-11-30 17:04:27            A       1         LTE   -86   -11   5.0    5   \n",
       "\n",
       "                    RSSI  DL_bitrate  UL_bitrate State NRxRSRP NRxRSRQ  \\\n",
       "Timestamp                                                                \n",
       "2017-11-30 16:48:26  -85           3           7     D       -       -   \n",
       "2017-11-30 16:48:26  -85           3           7     D       -       -   \n",
       "2017-11-30 16:48:27  -87         310          14     D       -       -   \n",
       "2017-11-30 16:48:28  -85           0           0     I       -       -   \n",
       "2017-11-30 16:48:29  -85           0           0     I       -       -   \n",
       "...                  ...         ...         ...   ...     ...     ...   \n",
       "2017-11-30 17:04:24  -72        7068         128     D   -89.0   -10.0   \n",
       "2017-11-30 17:04:25  -69        8992         166     D   -89.0   -10.0   \n",
       "2017-11-30 17:04:26  -76        9584         177     D   -85.0    -9.0   \n",
       "2017-11-30 17:04:27  -74       11060         198     D   -85.0    -9.0   \n",
       "2017-11-30 17:04:27  -76       11060         198     D   -85.0    -9.0   \n",
       "\n",
       "                    ServingCell_Lon ServingCell_Lat ServingCell_Distance  \n",
       "Timestamp                                                                 \n",
       "2017-11-30 16:48:26       -8.491719       51.893905   665.24000000000001  \n",
       "2017-11-30 16:48:26       -8.491719       51.893905   658.67999999999995  \n",
       "2017-11-30 16:48:27       -8.491719       51.893905   658.67999999999995  \n",
       "2017-11-30 16:48:28       -8.491719       51.893905   658.67999999999995  \n",
       "2017-11-30 16:48:29       -8.491719       51.893905   658.67999999999995  \n",
       "...                             ...             ...                  ...  \n",
       "2017-11-30 17:04:24       -8.535593       51.880268   1968.8299999999999  \n",
       "2017-11-30 17:04:25       -8.535593       51.880268   1968.8299999999999  \n",
       "2017-11-30 17:04:26       -8.535593       51.880268   1968.8299999999999  \n",
       "2017-11-30 17:04:27       -8.535593       51.880268   1968.8299999999999  \n",
       "2017-11-30 17:04:27       -8.535593       51.880268   1968.8299999999999  \n",
       "\n",
       "[910 rows x 20 columns]"
      ]
     },
     "execution_count": 3,
     "metadata": {},
     "output_type": "execute_result"
    }
   ],
   "source": [
    "dataset"
   ]
  },
  {
   "cell_type": "code",
   "execution_count": 4,
   "metadata": {},
   "outputs": [
    {
     "data": {
      "text/html": [
       "<div>\n",
       "<style scoped>\n",
       "    .dataframe tbody tr th:only-of-type {\n",
       "        vertical-align: middle;\n",
       "    }\n",
       "\n",
       "    .dataframe tbody tr th {\n",
       "        vertical-align: top;\n",
       "    }\n",
       "\n",
       "    .dataframe thead th {\n",
       "        text-align: right;\n",
       "    }\n",
       "</style>\n",
       "<table border=\"1\" class=\"dataframe\">\n",
       "  <thead>\n",
       "    <tr style=\"text-align: right;\">\n",
       "      <th></th>\n",
       "      <th>Longitude</th>\n",
       "      <th>Latitude</th>\n",
       "      <th>Speed</th>\n",
       "      <th>CellID</th>\n",
       "      <th>RSRP</th>\n",
       "      <th>RSRQ</th>\n",
       "      <th>SNR</th>\n",
       "      <th>CQI</th>\n",
       "      <th>DL_bitrate</th>\n",
       "      <th>UL_bitrate</th>\n",
       "    </tr>\n",
       "  </thead>\n",
       "  <tbody>\n",
       "    <tr>\n",
       "      <th>count</th>\n",
       "      <td>910.000000</td>\n",
       "      <td>910.000000</td>\n",
       "      <td>910.000000</td>\n",
       "      <td>910.000000</td>\n",
       "      <td>910.000000</td>\n",
       "      <td>910.000000</td>\n",
       "      <td>910.000000</td>\n",
       "      <td>910.000000</td>\n",
       "      <td>910.000000</td>\n",
       "      <td>910.000000</td>\n",
       "    </tr>\n",
       "    <tr>\n",
       "      <th>mean</th>\n",
       "      <td>-8.519738</td>\n",
       "      <td>51.890417</td>\n",
       "      <td>25.730769</td>\n",
       "      <td>3.832967</td>\n",
       "      <td>-100.190110</td>\n",
       "      <td>-13.019780</td>\n",
       "      <td>5.203297</td>\n",
       "      <td>8.275824</td>\n",
       "      <td>13557.727473</td>\n",
       "      <td>264.167033</td>\n",
       "    </tr>\n",
       "    <tr>\n",
       "      <th>std</th>\n",
       "      <td>0.015037</td>\n",
       "      <td>0.001820</td>\n",
       "      <td>12.454142</td>\n",
       "      <td>2.459934</td>\n",
       "      <td>13.705536</td>\n",
       "      <td>4.054041</td>\n",
       "      <td>10.403170</td>\n",
       "      <td>3.264263</td>\n",
       "      <td>12322.598730</td>\n",
       "      <td>231.967257</td>\n",
       "    </tr>\n",
       "    <tr>\n",
       "      <th>min</th>\n",
       "      <td>-8.556712</td>\n",
       "      <td>51.888346</td>\n",
       "      <td>0.000000</td>\n",
       "      <td>0.000000</td>\n",
       "      <td>-128.000000</td>\n",
       "      <td>-22.000000</td>\n",
       "      <td>-13.000000</td>\n",
       "      <td>1.000000</td>\n",
       "      <td>0.000000</td>\n",
       "      <td>0.000000</td>\n",
       "    </tr>\n",
       "    <tr>\n",
       "      <th>25%</th>\n",
       "      <td>-8.532187</td>\n",
       "      <td>51.888904</td>\n",
       "      <td>14.000000</td>\n",
       "      <td>2.000000</td>\n",
       "      <td>-112.000000</td>\n",
       "      <td>-16.000000</td>\n",
       "      <td>-3.000000</td>\n",
       "      <td>6.000000</td>\n",
       "      <td>1747.250000</td>\n",
       "      <td>49.000000</td>\n",
       "    </tr>\n",
       "    <tr>\n",
       "      <th>50%</th>\n",
       "      <td>-8.515842</td>\n",
       "      <td>51.889068</td>\n",
       "      <td>29.000000</td>\n",
       "      <td>2.000000</td>\n",
       "      <td>-103.000000</td>\n",
       "      <td>-13.000000</td>\n",
       "      <td>3.000000</td>\n",
       "      <td>8.000000</td>\n",
       "      <td>10714.000000</td>\n",
       "      <td>217.500000</td>\n",
       "    </tr>\n",
       "    <tr>\n",
       "      <th>75%</th>\n",
       "      <td>-8.505477</td>\n",
       "      <td>51.892538</td>\n",
       "      <td>35.000000</td>\n",
       "      <td>6.000000</td>\n",
       "      <td>-89.000000</td>\n",
       "      <td>-10.000000</td>\n",
       "      <td>10.000000</td>\n",
       "      <td>10.000000</td>\n",
       "      <td>21573.500000</td>\n",
       "      <td>405.000000</td>\n",
       "    </tr>\n",
       "    <tr>\n",
       "      <th>max</th>\n",
       "      <td>-8.501291</td>\n",
       "      <td>51.893462</td>\n",
       "      <td>49.000000</td>\n",
       "      <td>8.000000</td>\n",
       "      <td>-63.000000</td>\n",
       "      <td>-4.000000</td>\n",
       "      <td>32.000000</td>\n",
       "      <td>15.000000</td>\n",
       "      <td>56646.000000</td>\n",
       "      <td>1163.000000</td>\n",
       "    </tr>\n",
       "  </tbody>\n",
       "</table>\n",
       "</div>"
      ],
      "text/plain": [
       "        Longitude    Latitude       Speed      CellID        RSRP        RSRQ  \\\n",
       "count  910.000000  910.000000  910.000000  910.000000  910.000000  910.000000   \n",
       "mean    -8.519738   51.890417   25.730769    3.832967 -100.190110  -13.019780   \n",
       "std      0.015037    0.001820   12.454142    2.459934   13.705536    4.054041   \n",
       "min     -8.556712   51.888346    0.000000    0.000000 -128.000000  -22.000000   \n",
       "25%     -8.532187   51.888904   14.000000    2.000000 -112.000000  -16.000000   \n",
       "50%     -8.515842   51.889068   29.000000    2.000000 -103.000000  -13.000000   \n",
       "75%     -8.505477   51.892538   35.000000    6.000000  -89.000000  -10.000000   \n",
       "max     -8.501291   51.893462   49.000000    8.000000  -63.000000   -4.000000   \n",
       "\n",
       "              SNR         CQI    DL_bitrate   UL_bitrate  \n",
       "count  910.000000  910.000000    910.000000   910.000000  \n",
       "mean     5.203297    8.275824  13557.727473   264.167033  \n",
       "std     10.403170    3.264263  12322.598730   231.967257  \n",
       "min    -13.000000    1.000000      0.000000     0.000000  \n",
       "25%     -3.000000    6.000000   1747.250000    49.000000  \n",
       "50%      3.000000    8.000000  10714.000000   217.500000  \n",
       "75%     10.000000   10.000000  21573.500000   405.000000  \n",
       "max     32.000000   15.000000  56646.000000  1163.000000  "
      ]
     },
     "execution_count": 4,
     "metadata": {},
     "output_type": "execute_result"
    }
   ],
   "source": [
    "dataset.describe()"
   ]
  },
  {
   "cell_type": "code",
   "execution_count": 5,
   "metadata": {},
   "outputs": [
    {
     "name": "stdout",
     "output_type": "stream",
     "text": [
      "<class 'pandas.core.frame.DataFrame'>\n",
      "DatetimeIndex: 910 entries, 2017-11-30 16:48:26 to 2017-11-30 17:04:27\n",
      "Data columns (total 20 columns):\n",
      "Timestamp               910 non-null datetime64[ns]\n",
      "Longitude               910 non-null float64\n",
      "Latitude                910 non-null float64\n",
      "Speed                   910 non-null int64\n",
      "Operatorname            910 non-null object\n",
      "CellID                  910 non-null int64\n",
      "NetworkMode             910 non-null object\n",
      "RSRP                    910 non-null int64\n",
      "RSRQ                    910 non-null int64\n",
      "SNR                     910 non-null float64\n",
      "CQI                     910 non-null int64\n",
      "RSSI                    910 non-null object\n",
      "DL_bitrate              910 non-null int64\n",
      "UL_bitrate              910 non-null int64\n",
      "State                   910 non-null object\n",
      "NRxRSRP                 910 non-null object\n",
      "NRxRSRQ                 910 non-null object\n",
      "ServingCell_Lon         910 non-null object\n",
      "ServingCell_Lat         910 non-null object\n",
      "ServingCell_Distance    910 non-null object\n",
      "dtypes: datetime64[ns](1), float64(3), int64(7), object(9)\n",
      "memory usage: 149.3+ KB\n"
     ]
    }
   ],
   "source": [
    "dataset.info()"
   ]
  },
  {
   "cell_type": "markdown",
   "metadata": {},
   "source": [
    "KPIs used:\n",
    "- Timestamp: timestamp of sample\n",
    "- Longitude and Latitude: GPS coordinates of mobile device\n",
    "- Velocity: velocity in kph of mobile device\n",
    "- Operatorname: cellular operator name (anonymised)\n",
    "- CellId: Serving cell for mobile device\n",
    "- NetworkMode: mobile communication standard (2G/3G/4G)\n",
    "- RSRQ: RSRQ Represents a ratio between RSRP and Received Signal Strength Indicator (RSSI). Signal strength (signal quality) is measured across all resource elements (RE), including interference from all sources (dB).\n",
    "- RSRP: RSRP Represents an average power over cell-specific reference symbols carried inside distinct RE. RSRP is used for measuring cell signal strength/coverage and therefore cell selection (dBm).\n",
    "- RSSI: RSSI represents a received power (wideband) including a serving cell and interference and noise from other sources. RSRQ, RSRP and RSSI are used for measuring cell strength/coverage and therefore cell selection (handover) (dBm).\n",
    "- SNR: value for signal-to-noise ratio (dB).\n",
    "- CQI: CQI is a feedback provided by UE to eNodeB. It indicates data rate that could be transmitted over a channel (highest MCS with a BLER probability less than 10%), as the function of SINR and UE’s receiver characteristics. Based on UE’s prediction of the channel, eNodeB selects an appropriate modulation scheme and coding rate.\n",
    "- DL_bitrate: download rate measured at the device (application layer) (kbit/s)\n",
    "- UL_bitrate: uplink rate measured at the device (application layer) (kbit/s)\n",
    "- State: state of the download process. It has two values, either I (idle, not downloading) or D (downloading)\n",
    "- NRxRSRQ & NRxRSRP: RSRQ and RSRP values for the neighbouring cell.\n",
    "- Cell_Longitude & Cell_Latitude: GPS coordinates of serving eNodeB. We use OpenCellid4, the largest community open database providing GPS coordinates of cell towers.\n",
    "- Distance: distance between the serving cell and mobile device in metres."
   ]
  },
  {
   "cell_type": "code",
   "execution_count": 6,
   "metadata": {},
   "outputs": [
    {
     "data": {
      "text/plain": [
       "array([[<matplotlib.axes._subplots.AxesSubplot object at 0x00000177FB8CC8D0>,\n",
       "        <matplotlib.axes._subplots.AxesSubplot object at 0x00000177FB928C88>,\n",
       "        <matplotlib.axes._subplots.AxesSubplot object at 0x00000177FB967278>],\n",
       "       [<matplotlib.axes._subplots.AxesSubplot object at 0x00000177FB994828>,\n",
       "        <matplotlib.axes._subplots.AxesSubplot object at 0x00000177FB9C7DD8>,\n",
       "        <matplotlib.axes._subplots.AxesSubplot object at 0x00000177FBA043C8>],\n",
       "       [<matplotlib.axes._subplots.AxesSubplot object at 0x00000177FBA33978>,\n",
       "        <matplotlib.axes._subplots.AxesSubplot object at 0x00000177FBA66F60>,\n",
       "        <matplotlib.axes._subplots.AxesSubplot object at 0x00000177FBA66F98>],\n",
       "       [<matplotlib.axes._subplots.AxesSubplot object at 0x00000177FBAD2AC8>,\n",
       "        <matplotlib.axes._subplots.AxesSubplot object at 0x00000177FBB100B8>,\n",
       "        <matplotlib.axes._subplots.AxesSubplot object at 0x00000177FBB3F668>]],\n",
       "      dtype=object)"
      ]
     },
     "execution_count": 6,
     "metadata": {},
     "output_type": "execute_result"
    },
    {
     "data": {
      "image/png": "[encoded data removed]",
      "text/plain": [
       "<Figure size 720x720 with 12 Axes>"
      ]
     },
     "metadata": {
      "needs_background": "light"
     },
     "output_type": "display_data"
    }
   ],
   "source": [
    "dataset.hist(bins = 10, figsize = (10,10))"
   ]
  },
  {
   "cell_type": "code",
   "execution_count": 7,
   "metadata": {},
   "outputs": [
    {
     "data": {
      "text/plain": [
       "Timestamp                0\n",
       "Longitude                0\n",
       "Latitude                 0\n",
       "Speed                    1\n",
       "Operatorname             0\n",
       "CellID                  57\n",
       "NetworkMode              0\n",
       "RSRP                     0\n",
       "RSRQ                     0\n",
       "SNR                     47\n",
       "CQI                      0\n",
       "RSSI                     0\n",
       "DL_bitrate               9\n",
       "UL_bitrate              10\n",
       "State                    0\n",
       "NRxRSRP                  0\n",
       "NRxRSRQ                  0\n",
       "ServingCell_Lon          0\n",
       "ServingCell_Lat          0\n",
       "ServingCell_Distance     0\n",
       "dtype: int64"
      ]
     },
     "execution_count": 7,
     "metadata": {},
     "output_type": "execute_result"
    }
   ],
   "source": [
    "# get number of values with 0 value\n",
    "dataset.isin([0]).sum()"
   ]
  },
  {
   "cell_type": "code",
   "execution_count": 8,
   "metadata": {},
   "outputs": [
    {
     "data": {
      "text/plain": [
       "Timestamp               0\n",
       "Longitude               0\n",
       "Latitude                0\n",
       "Speed                   0\n",
       "Operatorname            0\n",
       "CellID                  0\n",
       "NetworkMode             0\n",
       "RSRP                    0\n",
       "RSRQ                    0\n",
       "SNR                     0\n",
       "CQI                     0\n",
       "RSSI                    0\n",
       "DL_bitrate              0\n",
       "UL_bitrate              0\n",
       "State                   0\n",
       "NRxRSRP                 0\n",
       "NRxRSRQ                 0\n",
       "ServingCell_Lon         0\n",
       "ServingCell_Lat         0\n",
       "ServingCell_Distance    0\n",
       "dtype: int64"
      ]
     },
     "execution_count": 8,
     "metadata": {},
     "output_type": "execute_result"
    }
   ],
   "source": [
    "# get number of values with missing value\n",
    "dataset.isna().sum()"
   ]
  },
  {
   "cell_type": "code",
   "execution_count": 9,
   "metadata": {},
   "outputs": [
    {
     "data": {
      "text/plain": [
       "array(['A'], dtype=object)"
      ]
     },
     "execution_count": 9,
     "metadata": {},
     "output_type": "execute_result"
    }
   ],
   "source": [
    "dataset['Operatorname'].unique()"
   ]
  },
  {
   "cell_type": "code",
   "execution_count": 10,
   "metadata": {},
   "outputs": [
    {
     "data": {
      "text/plain": [
       "Timestamp                 0\n",
       "Longitude                 0\n",
       "Latitude                  0\n",
       "Speed                     0\n",
       "Operatorname              0\n",
       "CellID                    0\n",
       "NetworkMode               0\n",
       "RSRP                      0\n",
       "RSRQ                      0\n",
       "SNR                       0\n",
       "CQI                       0\n",
       "RSSI                     88\n",
       "DL_bitrate                0\n",
       "UL_bitrate                0\n",
       "State                     0\n",
       "NRxRSRP                 280\n",
       "NRxRSRQ                 280\n",
       "ServingCell_Lon          11\n",
       "ServingCell_Lat          11\n",
       "ServingCell_Distance     11\n",
       "dtype: int64"
      ]
     },
     "execution_count": 10,
     "metadata": {},
     "output_type": "execute_result"
    }
   ],
   "source": [
    "# Show not available values\n",
    "dataset.isin(['-']).sum()"
   ]
  },
  {
   "cell_type": "code",
   "execution_count": 11,
   "metadata": {
    "scrolled": true
   },
   "outputs": [
    {
     "data": {
      "text/plain": [
       "<matplotlib.axes._subplots.AxesSubplot at 0x177ffdb7be0>"
      ]
     },
     "execution_count": 11,
     "metadata": {},
     "output_type": "execute_result"
    },
    {
     "data": {
      "image/png": "[encoded data removed]",
      "text/plain": [
       "<Figure size 432x288 with 2 Axes>"
      ]
     },
     "metadata": {
      "needs_background": "light"
     },
     "output_type": "display_data"
    }
   ],
   "source": [
    "# show correlations\n",
    "corr = dataset.corr()\n",
    "import seaborn as sns\n",
    "sns.heatmap(corr, annot = True)"
   ]
  },
  {
   "cell_type": "code",
   "execution_count": 12,
   "metadata": {},
   "outputs": [
    {
     "data": {
      "text/plain": [
       "<matplotlib.axes._subplots.AxesSubplot at 0x177fff5e6a0>"
      ]
     },
     "execution_count": 12,
     "metadata": {},
     "output_type": "execute_result"
    },
    {
     "data": {
      "image/png": "[encoded data removed]",
      "text/plain": [
       "<Figure size 432x288 with 1 Axes>"
      ]
     },
     "metadata": {
      "needs_background": "light"
     },
     "output_type": "display_data"
    }
   ],
   "source": [
    "dataset['Speed'].plot(linewidth=2)"
   ]
  },
  {
   "cell_type": "code",
   "execution_count": 13,
   "metadata": {},
   "outputs": [
    {
     "data": {
      "text/plain": [
       "<matplotlib.axes._subplots.AxesSubplot at 0x1778604aa90>"
      ]
     },
     "execution_count": 13,
     "metadata": {},
     "output_type": "execute_result"
    },
    {
     "data": {
      "image/png": "[encoded data removed]",
      "text/plain": [
       "<Figure size 432x288 with 1 Axes>"
      ]
     },
     "metadata": {
      "needs_background": "light"
     },
     "output_type": "display_data"
    }
   ],
   "source": [
    "dataset['ServingCell_Distance'] = dataset['ServingCell_Distance'].replace(to_replace='-', value='0')\n",
    "dataset['ServingCell_Distance'] = dataset['ServingCell_Distance'].astype(float)\n",
    "dataset['ServingCell_Distance'].plot(linewidth=2)"
   ]
  },
  {
   "cell_type": "code",
   "execution_count": null,
   "metadata": {},
   "outputs": [],
   "source": []
  }
 ],
 "metadata": {
  "kernelspec": {
   "display_name": "Python 3",
   "language": "python",
   "name": "python3"
  },
  "language_info": {
   "codemirror_mode": {
    "name": "ipython",
    "version": 3
   },
   "file_extension": ".py",
   "mimetype": "text/x-python",
   "name": "python",
   "nbconvert_exporter": "python",
   "pygments_lexer": "ipython3",
   "version": "3.6.8"
  }
 },
 "nbformat": 4,
 "nbformat_minor": 2
}
