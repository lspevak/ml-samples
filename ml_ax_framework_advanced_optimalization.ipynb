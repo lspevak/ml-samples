{
 "cells": [
  {
   "cell_type": "markdown",
   "metadata": {},
   "source": [
    "# Ax optimalization framework [TODO]\n",
    "\n",
    "Ax is an open-source package from PyTorch that helps you find a minima for any function over the range of parameters. One of the useful ML applications is to find the best hyperparameters for training a model to achieve minimal loss.\n",
    "\n",
    "Sources:\n",
    "- https://ax.dev/docs/core.html\n",
    "- https://github.com/facebook/Ax/blob/master/tutorials/building_blocks.ipynb"
   ]
  },
  {
   "cell_type": "code",
   "execution_count": 1,
   "metadata": {},
   "outputs": [],
   "source": [
    "%matplotlib inline\n",
    "import pandas as pd\n",
    "import numpy as np\n",
    "import matplotlib.pyplot as plt"
   ]
  },
  {
   "cell_type": "markdown",
   "metadata": {},
   "source": [
    "## Ax Optimalization Framework\n",
    "Adaptive experimentation is the machine-learning guided process of iteratively exploring a (possibly infinite) parameter space in order to identify optimal configurations in a resource-efficient manner. Bayesian optimization is powered by BoTorch.\n",
    "\n",
    "Source:\n",
    "- https://github.com/facebook/Ax"
   ]
  },
  {
   "cell_type": "code",
   "execution_count": 2,
   "metadata": {},
   "outputs": [],
   "source": [
    "from ax import *"
   ]
  },
  {
   "cell_type": "code",
   "execution_count": 3,
   "metadata": {},
   "outputs": [],
   "source": [
    "# Define experiment input parameters.\n",
    "range_param1 = RangeParameter(name=\"x1\", lower=0.0, upper=10.0, parameter_type=ParameterType.FLOAT)\n",
    "range_param2 = RangeParameter(name=\"x2\", lower=0.0, upper=10.0, parameter_type=ParameterType.FLOAT)\n",
    "\n",
    "# Define experiment constraints over parameters.\n",
    "# Sum constraints enforce that the sum of a set of parameters is greater or less than some bound, \n",
    "# and order constraints enforce that one parameter is smaller than the other.\n",
    "sum_constraint = SumConstraint(\n",
    "    parameters=[range_param1, range_param2], \n",
    "    is_upper_bound=True, \n",
    "    bound=5.0,\n",
    ")\n",
    "\n",
    "order_constraint = OrderConstraint(\n",
    "    lower_parameter = range_param1,\n",
    "    upper_parameter = range_param2,\n",
    ")\n",
    "\n",
    "# Create search space and register parameters and constrains\n",
    "search_space = SearchSpace(\n",
    "    parameters=[range_param1, range_param2],\n",
    "    parameter_constraints=[sum_constraint, order_constraint]\n",
    ")\n",
    "\n",
    "#choice_param = ChoiceParameter(name=\"choice\", values=[\"foo\", \"bar\"], parameter_type=ParameterType.STRING)\n",
    "#fixed_param = FixedParameter(name=\"fixed\", value=[True], parameter_type=ParameterType.BOOL)"
   ]
  },
  {
   "cell_type": "code",
   "execution_count": 4,
   "metadata": {},
   "outputs": [],
   "source": [
    "# Define experiment\n",
    "experiment = Experiment(\n",
    "    name=\"Demo experiment\",\n",
    "    search_space=search_space\n",
    ")"
   ]
  },
  {
   "cell_type": "code",
   "execution_count": 5,
   "metadata": {},
   "outputs": [
    {
     "name": "stdout",
     "output_type": "stream",
     "text": [
      "Arm(parameters={'x1': 0.5808260291814804, 'x2': 1.6990402340888977})\n",
      "Arm(parameters={'x1': 1.111799106001854, 'x2': 2.5313133001327515})\n",
      "Arm(parameters={'x1': 0.27351927012205124, 'x2': 4.42659854888916})\n",
      "Arm(parameters={'x1': 1.287938803434372, 'x2': 2.460074871778488})\n",
      "Arm(parameters={'x1': 0.8459854125976562, 'x2': 1.0500745475292206})\n"
     ]
    }
   ],
   "source": [
    "# Generate arms as assignments of parameters to values, that lie within the search space\n",
    "sobol = Models.SOBOL(search_space=experiment.search_space)\n",
    "# generate 5 points\n",
    "generator_run = sobol.gen(5)\n",
    "\n",
    "# show generated inputs\n",
    "for arm in generator_run.arms:\n",
    "    print(arm)"
   ]
  },
  {
   "cell_type": "code",
   "execution_count": 6,
   "metadata": {},
   "outputs": [],
   "source": [
    "# An optimization config is composed of an objective metric to be minimized or maximized in the experiment, \n",
    "# and optionally a set of outcome constraints that place restrictions on how other metrics can be\n",
    "# moved by the experiment.\n",
    "\n",
    "class BoothMetric(Metric):\n",
    "    # Generate model metrics for provided arms\n",
    "    def fetch_trial_data(self, trial):\n",
    "        records = []\n",
    "        for arm_name, arm in trial.arms_by_name.items():\n",
    "            params = arm.parameters\n",
    "            records.append({\n",
    "                \"arm_name\": arm_name,\n",
    "                \"metric_name\": self.name,\n",
    "                \"mean\": (params[\"x1\"] + 2*params[\"x2\"] - 7)**2 + (2*params[\"x1\"] + params[\"x2\"] - 5)**2,\n",
    "                \"sem\": 0.0,\n",
    "                \"trial_index\": trial.index,\n",
    "            })\n",
    "            \n",
    "        print ('Evaluated data size:', len(records))\n",
    "        return Data(df=pd.DataFrame.from_records(records))"
   ]
  },
  {
   "cell_type": "code",
   "execution_count": 7,
   "metadata": {},
   "outputs": [],
   "source": [
    "optimization_config = OptimizationConfig(\n",
    "    objective = Objective(\n",
    "        metric=BoothMetric(name=\"booth\"), \n",
    "        minimize=True,\n",
    "    ),\n",
    ")\n",
    "\n",
    "experiment.optimization_config = optimization_config"
   ]
  },
  {
   "cell_type": "code",
   "execution_count": 8,
   "metadata": {},
   "outputs": [],
   "source": [
    "# Before an experiment can collect data, it must have a Runner attached. \n",
    "# A runner handles the deployment of trials.\n",
    "# A trial must be \"run\" before it can be evaluated.\n",
    "\n",
    "class ExperimentRunner(Runner):\n",
    "    def run(self, trial):\n",
    "        print ('ExperimentRunner is running, trial:', trial)\n",
    "        # e.g. deploy data to production\n",
    "        return {\"name\": str(trial.index)}\n",
    "    \n",
    "experiment.runner = ExperimentRunner()"
   ]
  },
  {
   "cell_type": "code",
   "execution_count": 9,
   "metadata": {},
   "outputs": [
    {
     "data": {
      "text/plain": [
       "BatchTrial(experiment_name='Demo experiment', index=0, status=TrialStatus.CANDIDATE)"
      ]
     },
     "execution_count": 9,
     "metadata": {},
     "output_type": "execute_result"
    }
   ],
   "source": [
    "# Now we can collect data for arms within our search space and begin the optimization.\n",
    "# - Generating arms for an initial exploratory batch (already done above, using Sobol)\n",
    "# - Adding these arms to a trial\n",
    "# - Running the trial\n",
    "# - Evaluating the trial\n",
    "# - Generating new arms based on the results, and repeating\n",
    "\n",
    "experiment.new_batch_trial(generator_run=generator_run)"
   ]
  },
  {
   "cell_type": "code",
   "execution_count": 10,
   "metadata": {},
   "outputs": [
    {
     "name": "stdout",
     "output_type": "stream",
     "text": [
      "Arm(name='0_0', parameters={'x1': 0.5808260291814804, 'x2': 1.6990402340888977})\n",
      "Arm(name='0_1', parameters={'x1': 1.111799106001854, 'x2': 2.5313133001327515})\n",
      "Arm(name='0_2', parameters={'x1': 0.27351927012205124, 'x2': 4.42659854888916})\n",
      "Arm(name='0_3', parameters={'x1': 1.287938803434372, 'x2': 2.460074871778488})\n",
      "Arm(name='0_4', parameters={'x1': 0.8459854125976562, 'x2': 1.0500745475292206})\n"
     ]
    }
   ],
   "source": [
    "for arm in experiment.trials[0].arms:\n",
    "    print(arm)"
   ]
  },
  {
   "cell_type": "code",
   "execution_count": 11,
   "metadata": {},
   "outputs": [
    {
     "data": {
      "text/plain": [
       "Trial(experiment_name='Demo experiment', index=1, status=TrialStatus.CANDIDATE, arm=Arm(name='single_arm', parameters={'x1': 1, 'x2': 1}))"
      ]
     },
     "execution_count": 11,
     "metadata": {},
     "output_type": "execute_result"
    }
   ],
   "source": [
    "# Extend arms\n",
    "experiment.new_trial().add_arm(Arm(name='single_arm', parameters={'x1': 1, 'x2': 1}))"
   ]
  },
  {
   "cell_type": "code",
   "execution_count": 13,
   "metadata": {},
   "outputs": [
    {
     "name": "stdout",
     "output_type": "stream",
     "text": [
      "ExperimentRunner is running, trial: BatchTrial(experiment_name='Demo experiment', index=0, status=TrialStatus.CANDIDATE)\n",
      "ExperimentRunner is running, trial: Trial(experiment_name='Demo experiment', index=1, status=TrialStatus.CANDIDATE, arm=Arm(name='single_arm', parameters={'x1': 1, 'x2': 1}))\n"
     ]
    }
   ],
   "source": [
    "from ax.core.base_trial import TrialStatus\n",
    "\n",
    "for i in range(0, len(experiment.trials)):\n",
    "    trial = experiment.trials[i]\n",
    "    if trial.status == TrialStatus.CANDIDATE:\n",
    "        experiment.trials[i].run()"
   ]
  },
  {
   "cell_type": "code",
   "execution_count": 14,
   "metadata": {},
   "outputs": [
    {
     "name": "stdout",
     "output_type": "stream",
     "text": [
      "Evaluated data size: 5\n",
      "Evaluated data size: 1\n"
     ]
    },
    {
     "data": {
      "text/html": [
       "<div>\n",
       "<style scoped>\n",
       "    .dataframe tbody tr th:only-of-type {\n",
       "        vertical-align: middle;\n",
       "    }\n",
       "\n",
       "    .dataframe tbody tr th {\n",
       "        vertical-align: top;\n",
       "    }\n",
       "\n",
       "    .dataframe thead th {\n",
       "        text-align: right;\n",
       "    }\n",
       "</style>\n",
       "<table border=\"1\" class=\"dataframe\">\n",
       "  <thead>\n",
       "    <tr style=\"text-align: right;\">\n",
       "      <th></th>\n",
       "      <th>arm_name</th>\n",
       "      <th>metric_name</th>\n",
       "      <th>mean</th>\n",
       "      <th>sem</th>\n",
       "      <th>trial_index</th>\n",
       "    </tr>\n",
       "  </thead>\n",
       "  <tbody>\n",
       "    <tr>\n",
       "      <th>0</th>\n",
       "      <td>0_0</td>\n",
       "      <td>booth</td>\n",
       "      <td>13.703643</td>\n",
       "      <td>0.0</td>\n",
       "      <td>0</td>\n",
       "    </tr>\n",
       "    <tr>\n",
       "      <th>1</th>\n",
       "      <td>0_1</td>\n",
       "      <td>booth</td>\n",
       "      <td>0.741641</td>\n",
       "      <td>0.0</td>\n",
       "      <td>0</td>\n",
       "    </tr>\n",
       "    <tr>\n",
       "      <th>2</th>\n",
       "      <td>0_2</td>\n",
       "      <td>booth</td>\n",
       "      <td>4.523618</td>\n",
       "      <td>0.0</td>\n",
       "      <td>0</td>\n",
       "    </tr>\n",
       "    <tr>\n",
       "      <th>3</th>\n",
       "      <td>0_3</td>\n",
       "      <td>booth</td>\n",
       "      <td>0.628416</td>\n",
       "      <td>0.0</td>\n",
       "      <td>0</td>\n",
       "    </tr>\n",
       "    <tr>\n",
       "      <th>4</th>\n",
       "      <td>0_4</td>\n",
       "      <td>booth</td>\n",
       "      <td>21.532185</td>\n",
       "      <td>0.0</td>\n",
       "      <td>0</td>\n",
       "    </tr>\n",
       "    <tr>\n",
       "      <th>5</th>\n",
       "      <td>single_arm</td>\n",
       "      <td>booth</td>\n",
       "      <td>20.000000</td>\n",
       "      <td>0.0</td>\n",
       "      <td>1</td>\n",
       "    </tr>\n",
       "  </tbody>\n",
       "</table>\n",
       "</div>"
      ],
      "text/plain": [
       "     arm_name metric_name       mean  sem  trial_index\n",
       "0         0_0       booth  13.703643  0.0            0\n",
       "1         0_1       booth   0.741641  0.0            0\n",
       "2         0_2       booth   4.523618  0.0            0\n",
       "3         0_3       booth   0.628416  0.0            0\n",
       "4         0_4       booth  21.532185  0.0            0\n",
       "5  single_arm       booth  20.000000  0.0            1"
      ]
     },
     "execution_count": 14,
     "metadata": {},
     "output_type": "execute_result"
    }
   ],
   "source": [
    "data = experiment.fetch_data()\n",
    "data.df"
   ]
  },
  {
   "cell_type": "code",
   "execution_count": 15,
   "metadata": {},
   "outputs": [
    {
     "name": "stderr",
     "output_type": "stream",
     "text": [
      "c:\\apps\\python36\\lib\\site-packages\\gpytorch\\utils\\cholesky.py:44: NumericalWarning:\n",
      "\n",
      "A not p.d., added jitter of 1e-08 to the diagonal\n",
      "\n",
      "c:\\apps\\python36\\lib\\site-packages\\gpytorch\\utils\\cholesky.py:44: NumericalWarning:\n",
      "\n",
      "A not p.d., added jitter of 1e-08 to the diagonal\n",
      "\n",
      "c:\\apps\\python36\\lib\\site-packages\\gpytorch\\utils\\cholesky.py:44: NumericalWarning:\n",
      "\n",
      "A not p.d., added jitter of 1e-08 to the diagonal\n",
      "\n",
      "c:\\apps\\python36\\lib\\site-packages\\gpytorch\\utils\\cholesky.py:44: NumericalWarning:\n",
      "\n",
      "A not p.d., added jitter of 1e-08 to the diagonal\n",
      "\n"
     ]
    }
   ],
   "source": [
    "# Now we can model the data collected for the initial set of arms via Bayesian optimization \n",
    "# (using the Botorch model default of Gaussian Process with Expected Improvement acquisition function) \n",
    "# to determine the new arms for which to fetch data next.\n",
    "\n",
    "gpei = Models.BOTORCH(experiment=experiment, data=data)\n",
    "# Generate 5 points\n",
    "generator_run = gpei.gen(5)\n",
    "best_arm, _ = generator_run.best_arm_predictions\n",
    "experiment.new_batch_trial(generator_run=generator_run)\n",
    "# ...\n",
    "\n",
    "best_parameters = best_arm.parameters"
   ]
  },
  {
   "cell_type": "code",
   "execution_count": 16,
   "metadata": {},
   "outputs": [
    {
     "data": {
      "text/plain": [
       "{'x1': 1.287938803434372, 'x2': 2.460074871778488}"
      ]
     },
     "execution_count": 16,
     "metadata": {},
     "output_type": "execute_result"
    }
   ],
   "source": [
    "best_parameters"
   ]
  },
  {
   "cell_type": "code",
   "execution_count": 17,
   "metadata": {},
   "outputs": [
    {
     "name": "stdout",
     "output_type": "stream",
     "text": [
      "ExperimentRunner is running, trial: BatchTrial(experiment_name='Demo experiment', index=2, status=TrialStatus.CANDIDATE)\n",
      "Evaluated data size: 5\n",
      "Evaluated data size: 1\n",
      "Evaluated data size: 5\n"
     ]
    },
    {
     "data": {
      "text/html": [
       "<div>\n",
       "<style scoped>\n",
       "    .dataframe tbody tr th:only-of-type {\n",
       "        vertical-align: middle;\n",
       "    }\n",
       "\n",
       "    .dataframe tbody tr th {\n",
       "        vertical-align: top;\n",
       "    }\n",
       "\n",
       "    .dataframe thead th {\n",
       "        text-align: right;\n",
       "    }\n",
       "</style>\n",
       "<table border=\"1\" class=\"dataframe\">\n",
       "  <thead>\n",
       "    <tr style=\"text-align: right;\">\n",
       "      <th></th>\n",
       "      <th>arm_name</th>\n",
       "      <th>metric_name</th>\n",
       "      <th>mean</th>\n",
       "      <th>sem</th>\n",
       "      <th>trial_index</th>\n",
       "    </tr>\n",
       "  </thead>\n",
       "  <tbody>\n",
       "    <tr>\n",
       "      <th>0</th>\n",
       "      <td>0_0</td>\n",
       "      <td>booth</td>\n",
       "      <td>13.703643</td>\n",
       "      <td>0.0</td>\n",
       "      <td>0</td>\n",
       "    </tr>\n",
       "    <tr>\n",
       "      <th>1</th>\n",
       "      <td>0_1</td>\n",
       "      <td>booth</td>\n",
       "      <td>0.741641</td>\n",
       "      <td>0.0</td>\n",
       "      <td>0</td>\n",
       "    </tr>\n",
       "    <tr>\n",
       "      <th>2</th>\n",
       "      <td>0_2</td>\n",
       "      <td>booth</td>\n",
       "      <td>4.523618</td>\n",
       "      <td>0.0</td>\n",
       "      <td>0</td>\n",
       "    </tr>\n",
       "    <tr>\n",
       "      <th>3</th>\n",
       "      <td>0_3</td>\n",
       "      <td>booth</td>\n",
       "      <td>0.628416</td>\n",
       "      <td>0.0</td>\n",
       "      <td>0</td>\n",
       "    </tr>\n",
       "    <tr>\n",
       "      <th>4</th>\n",
       "      <td>0_4</td>\n",
       "      <td>booth</td>\n",
       "      <td>21.532185</td>\n",
       "      <td>0.0</td>\n",
       "      <td>0</td>\n",
       "    </tr>\n",
       "    <tr>\n",
       "      <th>5</th>\n",
       "      <td>single_arm</td>\n",
       "      <td>booth</td>\n",
       "      <td>20.000000</td>\n",
       "      <td>0.0</td>\n",
       "      <td>1</td>\n",
       "    </tr>\n",
       "    <tr>\n",
       "      <th>6</th>\n",
       "      <td>2_0</td>\n",
       "      <td>booth</td>\n",
       "      <td>6.500000</td>\n",
       "      <td>0.0</td>\n",
       "      <td>2</td>\n",
       "    </tr>\n",
       "    <tr>\n",
       "      <th>7</th>\n",
       "      <td>2_1</td>\n",
       "      <td>booth</td>\n",
       "      <td>4.501274</td>\n",
       "      <td>0.0</td>\n",
       "      <td>2</td>\n",
       "    </tr>\n",
       "    <tr>\n",
       "      <th>8</th>\n",
       "      <td>2_2</td>\n",
       "      <td>booth</td>\n",
       "      <td>4.864864</td>\n",
       "      <td>0.0</td>\n",
       "      <td>2</td>\n",
       "    </tr>\n",
       "    <tr>\n",
       "      <th>9</th>\n",
       "      <td>2_3</td>\n",
       "      <td>booth</td>\n",
       "      <td>2.101612</td>\n",
       "      <td>0.0</td>\n",
       "      <td>2</td>\n",
       "    </tr>\n",
       "    <tr>\n",
       "      <th>10</th>\n",
       "      <td>2_4</td>\n",
       "      <td>booth</td>\n",
       "      <td>2.769373</td>\n",
       "      <td>0.0</td>\n",
       "      <td>2</td>\n",
       "    </tr>\n",
       "  </tbody>\n",
       "</table>\n",
       "</div>"
      ],
      "text/plain": [
       "      arm_name metric_name       mean  sem  trial_index\n",
       "0          0_0       booth  13.703643  0.0            0\n",
       "1          0_1       booth   0.741641  0.0            0\n",
       "2          0_2       booth   4.523618  0.0            0\n",
       "3          0_3       booth   0.628416  0.0            0\n",
       "4          0_4       booth  21.532185  0.0            0\n",
       "5   single_arm       booth  20.000000  0.0            1\n",
       "6          2_0       booth   6.500000  0.0            2\n",
       "7          2_1       booth   4.501274  0.0            2\n",
       "8          2_2       booth   4.864864  0.0            2\n",
       "9          2_3       booth   2.101612  0.0            2\n",
       "10         2_4       booth   2.769373  0.0            2"
      ]
     },
     "execution_count": 17,
     "metadata": {},
     "output_type": "execute_result"
    }
   ],
   "source": [
    "# run another trial\n",
    "for i in range(0, len(experiment.trials)):\n",
    "    trial = experiment.trials[i]\n",
    "    if trial.status == TrialStatus.CANDIDATE:        \n",
    "        experiment.trials[i].run()\n",
    "\n",
    "data = experiment.fetch_data()\n",
    "data.df"
   ]
  },
  {
   "cell_type": "code",
   "execution_count": 18,
   "metadata": {},
   "outputs": [],
   "source": [
    "# At any point, we can also save our experiment to a JSON file. To ensure that our custom metrics \n",
    "# and runner are saved properly, we first need to register them.\n",
    "\n",
    "from ax.storage.metric_registry import register_metric\n",
    "from ax.storage.runner_registry import register_runner\n",
    "\n",
    "register_metric(BoothMetric)\n",
    "register_runner(ExperimentRunner)\n",
    "\n",
    "save(experiment, \"experiment.json\")\n",
    "\n",
    "loaded_experiment = load(\"experiment.json\")"
   ]
  },
  {
   "cell_type": "code",
   "execution_count": 19,
   "metadata": {},
   "outputs": [
    {
     "name": "stderr",
     "output_type": "stream",
     "text": [
      "[INFO 05-05 16:08:11] ModelBridge: Leaving out out-of-design observations for arms: 2_3, 2_1, 2_2, 2_0\n",
      "c:\\apps\\python36\\lib\\site-packages\\gpytorch\\utils\\cholesky.py:44: NumericalWarning:\n",
      "\n",
      "A not p.d., added jitter of 1e-08 to the diagonal\n",
      "\n",
      "c:\\apps\\python36\\lib\\site-packages\\gpytorch\\utils\\cholesky.py:44: NumericalWarning:\n",
      "\n",
      "A not p.d., added jitter of 1e-08 to the diagonal\n",
      "\n",
      "c:\\apps\\python36\\lib\\site-packages\\gpytorch\\utils\\cholesky.py:44: NumericalWarning:\n",
      "\n",
      "A not p.d., added jitter of 1e-08 to the diagonal\n",
      "\n",
      "c:\\apps\\python36\\lib\\site-packages\\gpytorch\\utils\\cholesky.py:44: NumericalWarning:\n",
      "\n",
      "A not p.d., added jitter of 1e-08 to the diagonal\n",
      "\n"
     ]
    },
    {
     "name": "stdout",
     "output_type": "stream",
     "text": [
      "best_parameters: {'x1': 1.287938803434372, 'x2': 2.460074871778488}\n"
     ]
    }
   ],
   "source": [
    "# Gaussian Processes (GPs) are used for Bayesian Optimization in Ax, the get_GPEI function constructs \n",
    "# a model that fits a GP to the data, and uses the EI acquisition function to generate new points on calls to gen.\n",
    "# This code fits a GP and generates a batch of 5 points which maximizes EI:\n",
    "\n",
    "from ax.modelbridge.factory import get_GPEI\n",
    "\n",
    "model = get_GPEI(experiment, data)\n",
    "generator_run_2 = model.gen(n=5, optimization_config=optimization_config)\n",
    "best_arm, _ = generator_run_2.best_arm_predictions\n",
    "\n",
    "best_parameters = best_arm.parameters\n",
    "print ('best_parameters:', best_parameters)"
   ]
  },
  {
   "cell_type": "code",
   "execution_count": 20,
   "metadata": {},
   "outputs": [],
   "source": [
    "# We make predictions by constructing a list of ObservationFeatures objects with the parameter \n",
    "# values for which we want predictions\n",
    "\n",
    "from ax.core.observation import ObservationFeatures\n",
    "\n",
    "obs_feats = [\n",
    "    ObservationFeatures(parameters={'x1': 3.14, 'x2': 2.72}),\n",
    "    ObservationFeatures(parameters={'x1': 1.41, 'x2': 1.62}),\n",
    "]\n",
    "\n",
    "\n",
    "# The output of predict is the mean estimate of each metric and the covariance (across metrics) for each point.\n",
    "# Make model predictions (mean and covariance) for the given observation features.\n",
    "# Predictions are made for all outcomes. If an out-of-design observation can successfully be transformed,\n",
    "# the predicted value will be returned. Othwerise, we will attempt to find that observation in the training data\n",
    "# and return the raw value.\n",
    "\n",
    "f, cov = model.predict(obs_feats)"
   ]
  },
  {
   "cell_type": "code",
   "execution_count": 21,
   "metadata": {},
   "outputs": [
    {
     "data": {
      "text/plain": [
       "{'booth': [1.2811189283872046, 7.25122716155486]}"
      ]
     },
     "execution_count": 21,
     "metadata": {},
     "output_type": "execute_result"
    }
   ],
   "source": [
    "f"
   ]
  },
  {
   "cell_type": "code",
   "execution_count": 22,
   "metadata": {},
   "outputs": [
    {
     "data": {
      "text/plain": [
       "{'booth': {'booth': [103.12604404233777, 2.778389333951025]}}"
      ]
     },
     "execution_count": 22,
     "metadata": {},
     "output_type": "execute_result"
    }
   ],
   "source": [
    "cov"
   ]
  },
  {
   "cell_type": "code",
   "execution_count": null,
   "metadata": {},
   "outputs": [],
   "source": [
    "# from ax.plot.slice import plot_slice\n",
    "# from ax.utils.notebook.plotting import render, init_notebook_plotting\n",
    "\n",
    "# init_notebook_plotting()\n",
    "# render(plot_slice(\n",
    "#     model=m,\n",
    "#     param_name='x1',  # slice on values of 'x1'\n",
    "#     metric_name='metric_a',\n",
    "#     slice_values={'x2': 7.5},  # Fix at this value for the slice\n",
    "# ))"
   ]
  },
  {
   "cell_type": "code",
   "execution_count": null,
   "metadata": {},
   "outputs": [],
   "source": []
  }
 ],
 "metadata": {
  "kernelspec": {
   "display_name": "Python 3",
   "language": "python",
   "name": "python3"
  },
  "language_info": {
   "codemirror_mode": {
    "name": "ipython",
    "version": 3
   },
   "file_extension": ".py",
   "mimetype": "text/x-python",
   "name": "python",
   "nbconvert_exporter": "python",
   "pygments_lexer": "ipython3",
   "version": "3.6.8"
  }
 },
 "nbformat": 4,
 "nbformat_minor": 2
}
