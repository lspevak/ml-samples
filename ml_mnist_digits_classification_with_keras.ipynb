{
 "cells": [
  {
   "cell_type": "markdown",
   "metadata": {},
   "source": [
    "# Simple feed-forward neural network MNIST digits classification with Keras and Tensorflow"
   ]
  },
  {
   "cell_type": "code",
   "execution_count": 1,
   "metadata": {},
   "outputs": [],
   "source": [
    "%matplotlib inline\n",
    "import pandas as pd\n",
    "import numpy as np\n",
    "import matplotlib.pyplot as plt\n",
    "\n",
    "# Keras (from TensorFlow) imports for the dataset and building NN\n",
    "from tensorflow.keras import Sequential\n",
    "from tensorflow.keras.layers import Dense, Dropout, Activation\n",
    "from tensorflow.keras.utils import to_categorical\n",
    "from tensorflow.keras.datasets import mnist\n",
    "from tensorflow.keras.models import load_model"
   ]
  },
  {
   "cell_type": "code",
   "execution_count": 2,
   "metadata": {},
   "outputs": [],
   "source": [
    "# load train/test datasets\n",
    "(X_train, y_train), (X_test, y_test) = mnist.load_data()"
   ]
  },
  {
   "cell_type": "code",
   "execution_count": 3,
   "metadata": {},
   "outputs": [
    {
     "data": {
      "image/png": "[encoded data removed]",
      "text/plain": [
       "<Figure size 432x288 with 9 Axes>"
      ]
     },
     "metadata": {},
     "output_type": "display_data"
    }
   ],
   "source": [
    "# Draw several figures\n",
    "fig = plt.figure()\n",
    "for i in range(9):\n",
    "  plt.subplot(3,3,i+1)\n",
    "  plt.tight_layout()\n",
    "  plt.imshow(X_train[i], cmap='gray', interpolation='none')\n",
    "  plt.title(\"Digit: {}\".format(y_train[i]))\n",
    "  plt.xticks([])\n",
    "  plt.yticks([])"
   ]
  },
  {
   "cell_type": "code",
   "execution_count": 4,
   "metadata": {},
   "outputs": [
    {
     "data": {
      "text/plain": [
       "Text(0.5, 1.0, 'Pixel Value Distribution')"
      ]
     },
     "execution_count": 4,
     "metadata": {},
     "output_type": "execute_result"
    },
    {
     "data": {
      "image/png": "[encoded data removed]",
      "text/plain": [
       "<Figure size 432x288 with 2 Axes>"
      ]
     },
     "metadata": {
      "needs_background": "light"
     },
     "output_type": "display_data"
    }
   ],
   "source": [
    "fig = plt.figure()\n",
    "plt.subplot(2,1,1)\n",
    "plt.imshow(X_train[0], cmap='gray', interpolation='none')\n",
    "plt.title(\"Digit: {}\".format(y_train[0]))\n",
    "plt.xticks([])\n",
    "plt.yticks([])\n",
    "plt.subplot(2,1,2)\n",
    "plt.hist(X_train[0].reshape(784))\n",
    "plt.title(\"Pixel Value Distribution\")"
   ]
  },
  {
   "cell_type": "code",
   "execution_count": 5,
   "metadata": {},
   "outputs": [
    {
     "name": "stdout",
     "output_type": "stream",
     "text": [
      "X_train shape (60000, 28, 28)\n",
      "y_train shape (60000,)\n",
      "X_test shape (10000, 28, 28)\n",
      "y_test shape (10000,)\n"
     ]
    }
   ],
   "source": [
    "# let's print the shape before we reshape and normalize\n",
    "print(\"X_train shape\", X_train.shape)\n",
    "print(\"y_train shape\", y_train.shape)\n",
    "print(\"X_test shape\", X_test.shape)\n",
    "print(\"y_test shape\", y_test.shape)"
   ]
  },
  {
   "cell_type": "code",
   "execution_count": 6,
   "metadata": {},
   "outputs": [],
   "source": [
    "X_train = X_train.reshape(60000, 784)\n",
    "X_test = X_test.reshape(10000, 784)\n",
    "X_train = X_train.astype('float32')\n",
    "X_test = X_test.astype('float32')"
   ]
  },
  {
   "cell_type": "code",
   "execution_count": 7,
   "metadata": {},
   "outputs": [],
   "source": [
    "# normalizing the data to help with the training\n",
    "X_train /= 255\n",
    "X_test /= 255"
   ]
  },
  {
   "cell_type": "code",
   "execution_count": 8,
   "metadata": {},
   "outputs": [
    {
     "name": "stdout",
     "output_type": "stream",
     "text": [
      "(60000, 784)\n",
      "(10000, 784)\n"
     ]
    }
   ],
   "source": [
    "# print the final input shape ready for training\n",
    "print(X_train.shape)\n",
    "print(X_test.shape)"
   ]
  },
  {
   "cell_type": "code",
   "execution_count": 9,
   "metadata": {},
   "outputs": [],
   "source": [
    "n_classes = 10\n",
    "Y_train = to_categorical(y_train, n_classes)\n",
    "Y_test = to_categorical(y_test, n_classes)"
   ]
  },
  {
   "cell_type": "code",
   "execution_count": 10,
   "metadata": {},
   "outputs": [
    {
     "name": "stdout",
     "output_type": "stream",
     "text": [
      "Train on 60000 samples, validate on 10000 samples\n",
      "Epoch 1/20\n",
      "60000/60000 [==============================] - 10s 174us/sample - loss: 0.2477 - accuracy: 0.9258 - val_loss: 0.1063 - val_accuracy: 0.9674\n",
      "Epoch 2/20\n",
      "60000/60000 [==============================] - 9s 148us/sample - loss: 0.1010 - accuracy: 0.9689 - val_loss: 0.0773 - val_accuracy: 0.9751\n",
      "Epoch 3/20\n",
      "60000/60000 [==============================] - 11s 184us/sample - loss: 0.0713 - accuracy: 0.9777 - val_loss: 0.0675 - val_accuracy: 0.9786\n",
      "Epoch 4/20\n",
      "60000/60000 [==============================] - 11s 175us/sample - loss: 0.0540 - accuracy: 0.9826 - val_loss: 0.0672 - val_accuracy: 0.9793\n",
      "Epoch 5/20\n",
      "60000/60000 [==============================] - 9s 156us/sample - loss: 0.0464 - accuracy: 0.9847 - val_loss: 0.0670 - val_accuracy: 0.9803\n",
      "Epoch 6/20\n",
      "60000/60000 [==============================] - 8s 137us/sample - loss: 0.0385 - accuracy: 0.9876 - val_loss: 0.0778 - val_accuracy: 0.9779\n",
      "Epoch 7/20\n",
      "60000/60000 [==============================] - 8s 137us/sample - loss: 0.0353 - accuracy: 0.9887 - val_loss: 0.0726 - val_accuracy: 0.9799\n",
      "Epoch 8/20\n",
      "60000/60000 [==============================] - 8s 141us/sample - loss: 0.0291 - accuracy: 0.9897 - val_loss: 0.0657 - val_accuracy: 0.9837\n",
      "Epoch 9/20\n",
      "60000/60000 [==============================] - 9s 144us/sample - loss: 0.0259 - accuracy: 0.9918 - val_loss: 0.0720 - val_accuracy: 0.9831\n",
      "Epoch 10/20\n",
      "60000/60000 [==============================] - 9s 146us/sample - loss: 0.0256 - accuracy: 0.9915 - val_loss: 0.0730 - val_accuracy: 0.9814\n",
      "Epoch 11/20\n",
      "60000/60000 [==============================] - 8s 141us/sample - loss: 0.0267 - accuracy: 0.9910 - val_loss: 0.0678 - val_accuracy: 0.9815\n",
      "Epoch 12/20\n",
      "60000/60000 [==============================] - 10s 172us/sample - loss: 0.0215 - accuracy: 0.9925 - val_loss: 0.0654 - val_accuracy: 0.9839\n",
      "Epoch 13/20\n",
      "60000/60000 [==============================] - 9s 142us/sample - loss: 0.0225 - accuracy: 0.9923 - val_loss: 0.0693 - val_accuracy: 0.9835\n",
      "Epoch 14/20\n",
      "60000/60000 [==============================] - 10s 159us/sample - loss: 0.0198 - accuracy: 0.9931 - val_loss: 0.0706 - val_accuracy: 0.9826\n",
      "Epoch 15/20\n",
      "60000/60000 [==============================] - 8s 126us/sample - loss: 0.0186 - accuracy: 0.9938 - val_loss: 0.0752 - val_accuracy: 0.9832\n",
      "Epoch 16/20\n",
      "60000/60000 [==============================] - 7s 120us/sample - loss: 0.0173 - accuracy: 0.9944 - val_loss: 0.0770 - val_accuracy: 0.9829\n",
      "Epoch 17/20\n",
      "60000/60000 [==============================] - 7s 120us/sample - loss: 0.0155 - accuracy: 0.9949 - val_loss: 0.0741 - val_accuracy: 0.9831\n",
      "Epoch 18/20\n",
      "60000/60000 [==============================] - 7s 120us/sample - loss: 0.0178 - accuracy: 0.9943 - val_loss: 0.0703 - val_accuracy: 0.9840\n",
      "Epoch 19/20\n",
      "60000/60000 [==============================] - 7s 120us/sample - loss: 0.0155 - accuracy: 0.9951 - val_loss: 0.0741 - val_accuracy: 0.9842\n",
      "Epoch 20/20\n",
      "60000/60000 [==============================] - 8s 129us/sample - loss: 0.0145 - accuracy: 0.9954 - val_loss: 0.0865 - val_accuracy: 0.9818\n"
     ]
    }
   ],
   "source": [
    "# building a linear stack of layers with the sequential model\n",
    "model = Sequential()\n",
    "\n",
    "model.add(Dense(512, input_shape=(784,)))\n",
    "model.add(Activation('relu'))                            \n",
    "model.add(Dropout(0.2))\n",
    "\n",
    "model.add(Dense(512))\n",
    "model.add(Activation('relu'))\n",
    "model.add(Dropout(0.2))\n",
    "\n",
    "model.add(Dense(10))\n",
    "model.add(Activation('softmax'))\n",
    "\n",
    "# compiling the sequential model\n",
    "model.compile(loss='categorical_crossentropy', metrics=['accuracy'], optimizer='adam')\n",
    "\n",
    "# training the model and saving metrics in history\n",
    "history = model.fit(X_train, Y_train,\n",
    "          batch_size=128, epochs=20,\n",
    "          verbose=1,\n",
    "          validation_data=(X_test, Y_test))"
   ]
  },
  {
   "cell_type": "code",
   "execution_count": 11,
   "metadata": {},
   "outputs": [
    {
     "name": "stdout",
     "output_type": "stream",
     "text": [
      "Saved trained model at results/keras_mnist_v1.h5 \n"
     ]
    }
   ],
   "source": [
    "import os\n",
    "\n",
    "save_dir = \"results/\"\n",
    "\n",
    "if not os.path.exists(save_dir):\n",
    "    os.makedirs(save_dir)\n",
    "\n",
    "# saving the model\n",
    "model_name = 'keras_mnist_v1.h5'\n",
    "model_path = os.path.join(save_dir, model_name)\n",
    "model.save(model_path)\n",
    "print('Saved trained model at %s ' % model_path)"
   ]
  },
  {
   "cell_type": "code",
   "execution_count": 12,
   "metadata": {},
   "outputs": [
    {
     "name": "stdout",
     "output_type": "stream",
     "text": [
      "10000/1 - 1s - loss: 0.0433 - accuracy: 0.9818\n"
     ]
    }
   ],
   "source": [
    "# evaluate test data\n",
    "mnist_model = load_model(model_path)\n",
    "loss_and_metrics = mnist_model.evaluate(X_test, Y_test, verbose=2)"
   ]
  },
  {
   "cell_type": "code",
   "execution_count": 13,
   "metadata": {},
   "outputs": [
    {
     "name": "stdout",
     "output_type": "stream",
     "text": [
      "Test Loss 0.08654282410692644\n",
      "Test Accuracy 0.9818\n",
      "9818  classified correctly\n",
      "182  classified incorrectly\n"
     ]
    }
   ],
   "source": [
    "print(\"Test Loss\", loss_and_metrics[0])\n",
    "print(\"Test Accuracy\", loss_and_metrics[1])\n",
    "\n",
    "# see which we predicted correctly and which not\n",
    "predicted_classes = mnist_model.predict_classes(X_test)\n",
    "\n",
    "correct_indices = np.nonzero(predicted_classes == y_test)[0]\n",
    "incorrect_indices = np.nonzero(predicted_classes != y_test)[0]\n",
    "\n",
    "print(len(correct_indices),\" classified correctly\")\n",
    "print(len(incorrect_indices),\" classified incorrectly\")"
   ]
  },
  {
   "cell_type": "code",
   "execution_count": 14,
   "metadata": {},
   "outputs": [
    {
     "data": {
      "image/png": "[encoded data removed]",
      "text/plain": [
       "<Figure size 504x1008 with 18 Axes>"
      ]
     },
     "metadata": {},
     "output_type": "display_data"
    }
   ],
   "source": [
    "# adapt figure size to accomodate 18 subplots\n",
    "plt.rcParams['figure.figsize'] = (7,14)\n",
    "\n",
    "figure_evaluation = plt.figure()\n",
    "\n",
    "# plot 9 correct predictions\n",
    "for i, correct in enumerate(correct_indices[:9]):\n",
    "    plt.subplot(6,3,i+1)\n",
    "    plt.imshow(X_test[correct].reshape(28,28), cmap='gray', interpolation='none')\n",
    "    plt.title(\n",
    "      \"Predicted: {}, Truth: {}\".format(predicted_classes[correct],\n",
    "                                        y_test[correct]))\n",
    "    plt.xticks([])\n",
    "    plt.yticks([])\n",
    "\n",
    "# plot 9 incorrect predictions\n",
    "for i, incorrect in enumerate(incorrect_indices[:9]):\n",
    "    plt.subplot(6,3,i+10)\n",
    "    plt.imshow(X_test[incorrect].reshape(28,28), cmap='gray', interpolation='none')\n",
    "    plt.title(\n",
    "      \"Predicted {}, Truth: {}\".format(predicted_classes[incorrect], \n",
    "                                       y_test[incorrect]))\n",
    "    plt.xticks([])\n",
    "    plt.yticks([])"
   ]
  },
  {
   "cell_type": "code",
   "execution_count": null,
   "metadata": {},
   "outputs": [],
   "source": []
  }
 ],
 "metadata": {
  "kernelspec": {
   "display_name": "Python 3",
   "language": "python",
   "name": "python3"
  },
  "language_info": {
   "codemirror_mode": {
    "name": "ipython",
    "version": 3
   },
   "file_extension": ".py",
   "mimetype": "text/x-python",
   "name": "python",
   "nbconvert_exporter": "python",
   "pygments_lexer": "ipython3",
   "version": "3.6.8"
  }
 },
 "nbformat": 4,
 "nbformat_minor": 2
}
