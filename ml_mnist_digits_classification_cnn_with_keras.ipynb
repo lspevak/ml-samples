{
 "cells": [
  {
   "cell_type": "markdown",
   "metadata": {},
   "source": [
    "# Simple convolution neural network MNIST digits classification with Keras and Tensorflow"
   ]
  },
  {
   "cell_type": "code",
   "execution_count": 1,
   "metadata": {},
   "outputs": [],
   "source": [
    "%matplotlib inline\n",
    "import pandas as pd\n",
    "import numpy as np\n",
    "import matplotlib.pyplot as plt\n",
    "\n",
    "# Keras (from TensorFlow) imports for the dataset and building NN\n",
    "from tensorflow.keras import Sequential\n",
    "from tensorflow.keras.layers import Dense, Dropout, Activation, Conv2D, MaxPooling2D, Flatten\n",
    "from tensorflow.keras.utils import to_categorical\n",
    "from tensorflow.keras.datasets import mnist\n",
    "from tensorflow.keras.models import load_model\n",
    "from tensorflow.keras.losses import categorical_crossentropy\n",
    "from tensorflow.keras.optimizers import Adadelta\n",
    "from tensorflow.keras.backend import image_data_format\n",
    "from tensorflow.keras.regularizers import l2"
   ]
  },
  {
   "cell_type": "code",
   "execution_count": 2,
   "metadata": {},
   "outputs": [],
   "source": [
    "# load train/test datasets\n",
    "(X_train, y_train), (X_test, y_test) = mnist.load_data()"
   ]
  },
  {
   "cell_type": "code",
   "execution_count": 3,
   "metadata": {},
   "outputs": [
    {
     "data": {
      "image/png": "[encoded data removed]",
      "text/plain": [
       "<Figure size 432x288 with 9 Axes>"
      ]
     },
     "metadata": {},
     "output_type": "display_data"
    }
   ],
   "source": [
    "# Draw first several figures\n",
    "fig = plt.figure()\n",
    "for i in range(9):\n",
    "  plt.subplot(3,3,i+1)\n",
    "  plt.tight_layout()\n",
    "  plt.imshow(X_train[i], cmap='gray', interpolation='none')\n",
    "  plt.title(\"Digit: {}\".format(y_train[i]))\n",
    "  plt.xticks([])\n",
    "  plt.yticks([])"
   ]
  },
  {
   "cell_type": "code",
   "execution_count": 4,
   "metadata": {},
   "outputs": [
    {
     "data": {
      "text/plain": [
       "Text(0.5, 1.0, 'Pixel Value Distribution')"
      ]
     },
     "execution_count": 4,
     "metadata": {},
     "output_type": "execute_result"
    },
    {
     "data": {
      "image/png": "[encoded data removed]",
      "text/plain": [
       "<Figure size 432x288 with 2 Axes>"
      ]
     },
     "metadata": {
      "needs_background": "light"
     },
     "output_type": "display_data"
    }
   ],
   "source": [
    "# Draw pixel distribution of the first train digit\n",
    "fig = plt.figure()\n",
    "plt.subplot(2,1,1)\n",
    "plt.imshow(X_train[0], cmap='gray', interpolation='none')\n",
    "plt.title(\"Digit: {}\".format(y_train[0]))\n",
    "plt.xticks([])\n",
    "plt.yticks([])\n",
    "plt.subplot(2,1,2)\n",
    "plt.hist(X_train[0].reshape(784))\n",
    "plt.title(\"Pixel Value Distribution\")"
   ]
  },
  {
   "cell_type": "code",
   "execution_count": 5,
   "metadata": {},
   "outputs": [
    {
     "name": "stdout",
     "output_type": "stream",
     "text": [
      "X_train: (60000, 28, 28, 1)\n",
      "60000 train samples\n",
      "10000 test samples\n"
     ]
    }
   ],
   "source": [
    "# input image dimensions\n",
    "img_rows, img_cols = 28, 28\n",
    "\n",
    "# get input shape\n",
    "if image_data_format() == 'channels_first':\n",
    "    X_train = X_train.reshape(X_train.shape[0], 1, img_rows, img_cols)\n",
    "    X_test = X_test.reshape(X_test.shape[0], 1, img_rows, img_cols)\n",
    "    input_shape = (1, img_rows, img_cols)\n",
    "else:\n",
    "    X_train = X_train.reshape(X_train.shape[0], img_rows, img_cols, 1)\n",
    "    X_test = X_test.reshape(X_test.shape[0], img_rows, img_cols, 1)\n",
    "    input_shape = (img_rows, img_cols, 1)\n",
    "\n",
    "\n",
    "# normalize train/test data\n",
    "X_train = X_train.astype('float32')\n",
    "X_test = X_test.astype('float32')\n",
    "X_train /= 255\n",
    "X_test /= 255\n",
    "\n",
    "print('X_train:', X_train.shape)\n",
    "print(X_train.shape[0], 'train samples')\n",
    "print(X_test.shape[0], 'test samples')"
   ]
  },
  {
   "cell_type": "code",
   "execution_count": 6,
   "metadata": {},
   "outputs": [
    {
     "name": "stdout",
     "output_type": "stream",
     "text": [
      "Y_train: (60000, 10)\n",
      "Y_test: (10000, 10)\n"
     ]
    }
   ],
   "source": [
    "# convert train/test output data into categories\n",
    "num_classes = 10\n",
    "Y_train = to_categorical(y_train, num_classes)\n",
    "Y_test = to_categorical(y_test, num_classes)\n",
    "print('Y_train:', Y_train.shape)\n",
    "print('Y_test:', Y_test.shape)"
   ]
  },
  {
   "cell_type": "code",
   "execution_count": 9,
   "metadata": {},
   "outputs": [],
   "source": [
    "# more info: https://keras.io/examples/mnist_cnn/\n",
    "# https://github.com/AmmirMahdi/mnist-with-Keras---Conv2D/blob/master/Deep_Learning_mnist_with_Conv2D.ipynb\n",
    "\n",
    "model = Sequential()\n",
    "\n",
    "model.add(Conv2D(32, (3, 3), padding='same', activation='relu', input_shape=input_shape, kernel_regularizer=l2(0.01)))\n",
    "model.add(MaxPooling2D((2, 2)))\n",
    "model.add(Dropout(0.15))\n",
    "\n",
    "#model.add(Conv2D(64, (3, 3), activation='relu'))\n",
    "#model.add(MaxPooling2D((2, 2)))\n",
    "#model.add(Dropout(0.15))\n",
    "\n",
    "model.add(Flatten())\n",
    "\n",
    "model.add(Dense(512, activation='relu', kernel_regularizer=l2(0.01)))\n",
    "model.add(Dropout(0.15))\n",
    "\n",
    "model.add(Dense(512, activation='relu', kernel_regularizer=l2(0.01)))\n",
    "model.add(Dropout(0.15))\n",
    "\n",
    "model.add(Dense(10, activation='softmax'))\n",
    "\n",
    "model.compile(loss=categorical_crossentropy,\n",
    "              optimizer=Adadelta(),\n",
    "              metrics=['accuracy'])"
   ]
  },
  {
   "cell_type": "code",
   "execution_count": 13,
   "metadata": {},
   "outputs": [
    {
     "name": "stdout",
     "output_type": "stream",
     "text": [
      "Train on 60000 samples, validate on 10000 samples\n",
      "Epoch 1/20\n",
      "60000/60000 [==============================] - 57s 950us/sample - loss: 7.0288 - accuracy: 0.8852 - val_loss: 6.9136 - val_accuracy: 0.9095\n",
      "Epoch 2/20\n",
      "60000/60000 [==============================] - 57s 948us/sample - loss: 6.9286 - accuracy: 0.8855 - val_loss: 6.8147 - val_accuracy: 0.9095\n",
      "Epoch 3/20\n",
      "60000/60000 [==============================] - 58s 974us/sample - loss: 6.8287 - accuracy: 0.8875 - val_loss: 6.7171 - val_accuracy: 0.9101\n",
      "Epoch 4/20\n",
      "60000/60000 [==============================] - 58s 966us/sample - loss: 6.7347 - accuracy: 0.8863 - val_loss: 6.6216 - val_accuracy: 0.9103\n",
      "Epoch 5/20\n",
      "60000/60000 [==============================] - 65s 1ms/sample - loss: 6.6374 - accuracy: 0.8880 - val_loss: 6.5274 - val_accuracy: 0.9109\n",
      "Epoch 6/20\n",
      "60000/60000 [==============================] - 82s 1ms/sample - loss: 6.5438 - accuracy: 0.8884 - val_loss: 6.4346 - val_accuracy: 0.9115\n",
      "Epoch 7/20\n",
      "60000/60000 [==============================] - 74s 1ms/sample - loss: 6.4523 - accuracy: 0.8884 - val_loss: 6.3439 - val_accuracy: 0.9118\n",
      "Epoch 8/20\n",
      "60000/60000 [==============================] - 72s 1ms/sample - loss: 6.3610 - accuracy: 0.8896 - val_loss: 6.2546 - val_accuracy: 0.9114\n",
      "Epoch 9/20\n",
      "60000/60000 [==============================] - 76s 1ms/sample - loss: 6.2718 - accuracy: 0.8901 - val_loss: 6.1666 - val_accuracy: 0.9124\n",
      "Epoch 10/20\n",
      "60000/60000 [==============================] - 71s 1ms/sample - loss: 6.1845 - accuracy: 0.8902 - val_loss: 6.0796 - val_accuracy: 0.9129\n",
      "Epoch 11/20\n",
      "60000/60000 [==============================] - 75s 1ms/sample - loss: 6.0987 - accuracy: 0.8909 - val_loss: 5.9947 - val_accuracy: 0.9130\n",
      "Epoch 12/20\n",
      "60000/60000 [==============================] - 75s 1ms/sample - loss: 6.0146 - accuracy: 0.8917 - val_loss: 5.9110 - val_accuracy: 0.9138\n",
      "Epoch 13/20\n",
      "60000/60000 [==============================] - 75s 1ms/sample - loss: 5.9292 - accuracy: 0.8925 - val_loss: 5.8281 - val_accuracy: 0.9143\n",
      "Epoch 14/20\n",
      "60000/60000 [==============================] - 69s 1ms/sample - loss: 5.8471 - accuracy: 0.8942 - val_loss: 5.7468 - val_accuracy: 0.9142\n",
      "Epoch 15/20\n",
      "60000/60000 [==============================] - 68s 1ms/sample - loss: 5.7675 - accuracy: 0.8924 - val_loss: 5.6670 - val_accuracy: 0.9147\n",
      "Epoch 16/20\n",
      "60000/60000 [==============================] - 61s 1ms/sample - loss: 5.6887 - accuracy: 0.8930 - val_loss: 5.5883 - val_accuracy: 0.9152\n",
      "Epoch 17/20\n",
      "60000/60000 [==============================] - 59s 982us/sample - loss: 5.6081 - accuracy: 0.8938 - val_loss: 5.5111 - val_accuracy: 0.9153\n",
      "Epoch 18/20\n",
      "60000/60000 [==============================] - 60s 996us/sample - loss: 5.5322 - accuracy: 0.8948 - val_loss: 5.4349 - val_accuracy: 0.9157\n",
      "Epoch 19/20\n",
      "60000/60000 [==============================] - 57s 945us/sample - loss: 5.4554 - accuracy: 0.8959 - val_loss: 5.3603 - val_accuracy: 0.9156\n",
      "Epoch 20/20\n",
      "60000/60000 [==============================] - 75s 1ms/sample - loss: 5.3826 - accuracy: 0.8946 - val_loss: 5.2864 - val_accuracy: 0.9165\n"
     ]
    }
   ],
   "source": [
    "# train NN\n",
    "batch_size = 128\n",
    "# adapt number of iterations\n",
    "epochs = 20\n",
    "\n",
    "history = model.fit(X_train, Y_train,\n",
    "          batch_size=128,\n",
    "          epochs=epochs,\n",
    "          verbose=1,\n",
    "          validation_data=(X_test, Y_test))"
   ]
  },
  {
   "cell_type": "code",
   "execution_count": 14,
   "metadata": {},
   "outputs": [
    {
     "name": "stdout",
     "output_type": "stream",
     "text": [
      "Test loss: 5.286352462005615\n",
      "Test accuracy: 0.9165\n"
     ]
    }
   ],
   "source": [
    "# evaluate NN model on test data\n",
    "score = model.evaluate(X_test, Y_test, verbose=0)\n",
    "\n",
    "print('Test loss:', score[0])\n",
    "print('Test accuracy:', score[1])"
   ]
  },
  {
   "cell_type": "code",
   "execution_count": 15,
   "metadata": {},
   "outputs": [
    {
     "name": "stdout",
     "output_type": "stream",
     "text": [
      "Saved trained model at results/keras_mnist_with_cnn_v1.h5 \n"
     ]
    }
   ],
   "source": [
    "# save data (optionally)\n",
    "import os\n",
    "\n",
    "save_dir = \"results/\"\n",
    "\n",
    "if not os.path.exists(save_dir):\n",
    "    os.makedirs(save_dir)\n",
    "\n",
    "# saving the model\n",
    "model_name = 'keras_mnist_with_cnn_v1.h5'\n",
    "model_path = os.path.join(save_dir, model_name)\n",
    "model.save(model_path)\n",
    "print('Saved trained model at %s ' % model_path)"
   ]
  },
  {
   "cell_type": "code",
   "execution_count": 16,
   "metadata": {},
   "outputs": [
    {
     "name": "stdout",
     "output_type": "stream",
     "text": [
      "10000/1 - 5s - loss: 5.2389 - accuracy: 0.9165\n",
      "Test Loss 5.286352462005615\n",
      "Test Accuracy 0.9165\n"
     ]
    }
   ],
   "source": [
    "# restore data from file (optional)\n",
    "mnist_model = load_model(model_path)\n",
    "loss_and_metrics = mnist_model.evaluate(X_test, Y_test, verbose=2)\n",
    "\n",
    "print(\"Test Loss\", loss_and_metrics[0])\n",
    "print(\"Test Accuracy\", loss_and_metrics[1])"
   ]
  },
  {
   "cell_type": "code",
   "execution_count": 17,
   "metadata": {},
   "outputs": [
    {
     "name": "stdout",
     "output_type": "stream",
     "text": [
      "predicted_classes: (10000,)\n",
      "9165  classified correctly\n",
      "835  classified incorrectly\n"
     ]
    }
   ],
   "source": [
    "# see which we predicted correctly and which not\n",
    "predicted_classes = mnist_model.predict_classes(X_test)\n",
    "print(\"predicted_classes:\", predicted_classes.shape)\n",
    "\n",
    "correct_indices = np.nonzero(predicted_classes == y_test)[0]\n",
    "incorrect_indices = np.nonzero(predicted_classes != y_test)[0]\n",
    "\n",
    "print(len(correct_indices),\" classified correctly\")\n",
    "print(len(incorrect_indices),\" classified incorrectly\")"
   ]
  },
  {
   "cell_type": "code",
   "execution_count": 20,
   "metadata": {},
   "outputs": [
    {
     "data": {
      "image/png": "[encoded data removed]",
      "text/plain": [
       "<Figure size 504x1008 with 18 Axes>"
      ]
     },
     "metadata": {},
     "output_type": "display_data"
    }
   ],
   "source": [
    "# show 9 correctly and 9 incorrectly classified digits\n",
    "plt.rcParams['figure.figsize'] = (7,14)\n",
    "\n",
    "figure_evaluation = plt.figure()\n",
    "\n",
    "# plot 9 correct predictions\n",
    "for i, correct in enumerate(correct_indices[:9]):\n",
    "    plt.subplot(6,3,i+1)\n",
    "    plt.imshow(X_test[correct].reshape(28,28), cmap='gray', interpolation='none')\n",
    "    plt.title(\n",
    "      \"Predicted: {}, Truth: {}\".format(predicted_classes[correct],\n",
    "                                        y_test[correct]))\n",
    "    plt.xticks([])\n",
    "    plt.yticks([])\n",
    "\n",
    "# plot 9 incorrect predictions\n",
    "for i, incorrect in enumerate(incorrect_indices[:9]):\n",
    "    plt.subplot(6,3,i+10)\n",
    "    plt.imshow(X_test[incorrect].reshape(28,28), cmap='gray', interpolation='none')\n",
    "    plt.title(\n",
    "      \"Predicted {}, Truth: {}\".format(predicted_classes[incorrect], \n",
    "                                       y_test[incorrect]))\n",
    "    plt.xticks([])\n",
    "    plt.yticks([])"
   ]
  },
  {
   "cell_type": "code",
   "execution_count": null,
   "metadata": {},
   "outputs": [],
   "source": []
  }
 ],
 "metadata": {
  "kernelspec": {
   "display_name": "Python 3",
   "language": "python",
   "name": "python3"
  },
  "language_info": {
   "codemirror_mode": {
    "name": "ipython",
    "version": 3
   },
   "file_extension": ".py",
   "mimetype": "text/x-python",
   "name": "python",
   "nbconvert_exporter": "python",
   "pygments_lexer": "ipython3",
   "version": "3.6.8"
  }
 },
 "nbformat": 4,
 "nbformat_minor": 2
}
