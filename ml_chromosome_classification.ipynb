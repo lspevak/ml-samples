{
 "cells": [
  {
   "cell_type": "markdown",
   "metadata": {},
   "source": [
    "# Chromosome classification\n",
    "\n",
    "Karyotyping is the process by which photographs of chromosomes are taken in order to determine the chromosome complement of an individual, including the number of chromosomes and any abnormalities.\n",
    "\n",
    "Sources:\n",
    "- https://en.wikipedia.org/wiki/Karyotype\n",
    "- https://github.com/laubravo/auto-karyotyping\n",
    "- http://bioimlab.dei.unipd.it/Automatic%20Karyotyping%20Classification.htm"
   ]
  },
  {
   "cell_type": "code",
   "execution_count": 1,
   "metadata": {},
   "outputs": [],
   "source": [
    "%matplotlib inline\n",
    "import pandas as pd\n",
    "import numpy as np\n",
    "import matplotlib.pyplot as plt\n",
    "\n",
    "import math\n",
    "\n",
    "# Image processing library - pip3 install opencv-python\n",
    "import cv2"
   ]
  },
  {
   "cell_type": "code",
   "execution_count": 2,
   "metadata": {},
   "outputs": [],
   "source": [
    "import os\n",
    "import zipfile\n",
    "\n",
    "# unzip archive with chromosomes classfied to 23 classes \n",
    "#(a person has 23 pair of chromosomes, last pair differs - a male has X, Y chromosomes, a female has two X chromosomes).\n",
    "chromosome_archive = 'classificationDb.zip'\n",
    "chromosome_dir = 'classificationDb'\n",
    "\n",
    "if not os.path.exists(chromosome_dir):\n",
    "    with zipfile.ZipFile(chromosome_archive, 'r') as zip_ref:\n",
    "        zip_ref.extractall('.')"
   ]
  },
  {
   "cell_type": "code",
   "execution_count": 3,
   "metadata": {},
   "outputs": [],
   "source": [
    "def show(image):\n",
    "    plt.figure(figsize=(3, 3))\n",
    "    plt.box()\n",
    "    #plt.axis(\"off\")\n",
    "    plt.imshow(cv2.cvtColor(image, cv2.COLOR_GRAY2RGB))\n",
    "    plt.show()\n",
    "    \n",
    "def show_binary(image):\n",
    "    plt.figure(figsize=(3, 3))\n",
    "    plt.box()\n",
    "    #plt.axis(\"off\")\n",
    "    plt.imshow(image, cmap='gray', interpolation='none')\n",
    "    plt.show()"
   ]
  },
  {
   "cell_type": "code",
   "execution_count": 4,
   "metadata": {},
   "outputs": [
    {
     "data": {
      "image/png": "[encoded data removed]",
      "text/plain": [
       "<Figure size 216x216 with 1 Axes>"
      ]
     },
     "metadata": {
      "needs_background": "light"
     },
     "output_type": "display_data"
    }
   ],
   "source": [
    "img1 = cv2.imread('chromosome_classif.bmp', cv2.IMREAD_GRAYSCALE)\n",
    "show(img1)"
   ]
  },
  {
   "cell_type": "code",
   "execution_count": 5,
   "metadata": {},
   "outputs": [
    {
     "data": {
      "text/plain": [
       "(82, 69)"
      ]
     },
     "execution_count": 5,
     "metadata": {},
     "output_type": "execute_result"
    }
   ],
   "source": [
    "# binarize the image using threshold analysis\n",
    "# try THRESH_TRIANGLE, THRESH_BINARY_INV + cv2.THRESH_OTSU\n",
    "# create binary mask from negative image here:\n",
    "ret, img1_bw = cv2.threshold(255 - img1, 128, 255, cv2.THRESH_TRIANGLE)\n",
    "img1_bw.shape\n",
    "# here THRESH_TRIANGLE works usable"
   ]
  },
  {
   "cell_type": "code",
   "execution_count": 6,
   "metadata": {},
   "outputs": [
    {
     "data": {
      "image/png": "[encoded data removed]",
      "text/plain": [
       "<Figure size 216x216 with 1 Axes>"
      ]
     },
     "metadata": {
      "needs_background": "light"
     },
     "output_type": "display_data"
    }
   ],
   "source": [
    "show(img1_bw)"
   ]
  },
  {
   "cell_type": "code",
   "execution_count": 7,
   "metadata": {},
   "outputs": [
    {
     "data": {
      "image/png": "[encoded data removed]",
      "text/plain": [
       "<Figure size 432x288 with 1 Axes>"
      ]
     },
     "metadata": {
      "needs_background": "light"
     },
     "output_type": "display_data"
    }
   ],
   "source": [
    "# show histogram of intensities\n",
    "plt.hist(img1.ravel(),256,[1,255], cumulative=False)\n",
    "plt.show()"
   ]
  },
  {
   "cell_type": "code",
   "execution_count": 8,
   "metadata": {},
   "outputs": [],
   "source": [
    "# this image looks a little bit different\n",
    "img2 = cv2.imread('chromosome_classif3.bmp', cv2.IMREAD_GRAYSCALE)"
   ]
  },
  {
   "cell_type": "code",
   "execution_count": 9,
   "metadata": {},
   "outputs": [
    {
     "data": {
      "image/png": "[encoded data removed]",
      "text/plain": [
       "<Figure size 216x216 with 1 Axes>"
      ]
     },
     "metadata": {
      "needs_background": "light"
     },
     "output_type": "display_data"
    }
   ],
   "source": [
    "show(img2)"
   ]
  },
  {
   "cell_type": "code",
   "execution_count": 10,
   "metadata": {},
   "outputs": [
    {
     "data": {
      "image/png": "[encoded data removed]",
      "text/plain": [
       "<Figure size 432x288 with 1 Axes>"
      ]
     },
     "metadata": {
      "needs_background": "light"
     },
     "output_type": "display_data"
    }
   ],
   "source": [
    "# show histogram of intensities\n",
    "# ignore black backgroud (use intensity < 4)\n",
    "plt.hist(img2.ravel(),256,[3,255], cumulative=False)\n",
    "plt.show()"
   ]
  },
  {
   "cell_type": "code",
   "execution_count": 11,
   "metadata": {},
   "outputs": [],
   "source": [
    "# for thresholding we should use negative image\n",
    "img2_inverted = 255 - img2"
   ]
  },
  {
   "cell_type": "code",
   "execution_count": 12,
   "metadata": {},
   "outputs": [
    {
     "data": {
      "image/png": "[encoded data removed]",
      "text/plain": [
       "<Figure size 216x216 with 1 Axes>"
      ]
     },
     "metadata": {
      "needs_background": "light"
     },
     "output_type": "display_data"
    }
   ],
   "source": [
    "show(img2_inverted)"
   ]
  },
  {
   "cell_type": "code",
   "execution_count": 13,
   "metadata": {},
   "outputs": [
    {
     "data": {
      "text/plain": [
       "(76, 42)"
      ]
     },
     "execution_count": 13,
     "metadata": {},
     "output_type": "execute_result"
    }
   ],
   "source": [
    "# binarize the image using threshold analysis\n",
    "ret, img2_bw = cv2.threshold(img2_inverted, 128, 255, cv2.THRESH_TRIANGLE)\n",
    "img2_bw.shape"
   ]
  },
  {
   "cell_type": "code",
   "execution_count": 14,
   "metadata": {},
   "outputs": [
    {
     "data": {
      "image/png": "[encoded data removed]",
      "text/plain": [
       "<Figure size 216x216 with 1 Axes>"
      ]
     },
     "metadata": {
      "needs_background": "light"
     },
     "output_type": "display_data"
    }
   ],
   "source": [
    "show(img2_bw)"
   ]
  },
  {
   "cell_type": "code",
   "execution_count": 15,
   "metadata": {},
   "outputs": [],
   "source": [
    "# the function computes an angle to rotate the object to be vertically oriented\n",
    "# mechanical momentums are used (some physics is needed)\n",
    "def get_object_deviation(img_gray, background_gray_color):\n",
    "    (h, w) = img_gray.shape[:2]\n",
    "    \n",
    "    # target deviation\n",
    "    alpha = 0\n",
    "    \n",
    "    # mechanical moments\n",
    "    m00 = 0.0   # area\n",
    "    m10 = 0.0   # linear. momentums\n",
    "    m01 = 0.0\n",
    "    m20 = 0.0   # kvadrat. momentums\n",
    "    m02 = 0.0\n",
    "    m11 = 0.0   # deviation momentum\n",
    "    cm20 = 0.0  # central momentum\n",
    "    pm20 = 0.0  # principal quadratic momentums\n",
    "    cm02 = 0.0\n",
    "    cm11 = 0.0  # central deviation momentums\n",
    "\n",
    "    #print ('w:', w, 'h:', h)\n",
    "    \n",
    "    for x in range(w):\n",
    "        for y in range(h):\n",
    "            v = img_gray[y, x]\n",
    "            if v != background_gray_color:\n",
    "                x_1 = x + 1.0\n",
    "                y_1 = y + 1.0\n",
    "                \n",
    "                m00 += 1.0;\n",
    "                m10 += x_1;\n",
    "                m01 += y_1;\n",
    "                m11 += x_1 * y_1;\n",
    "                m02 += y_1 * y_1;\n",
    "                m20 += x_1 * x_1;\n",
    "                \n",
    "    #print ('m00:', m00, 'm10:', m10, 'm01:', m01, 'm20:', m20, 'm02:', m02)\n",
    "\n",
    "    if m00 == 0.0: # nothing to count\n",
    "        #print ('m00==0')\n",
    "        return alpha;     \n",
    "\n",
    "    xc = m01 / m00;       # center of gravity\n",
    "    yc = m10 / m00;\n",
    "    \n",
    "    #print ('xc:', xc, 'yc:', yc)\n",
    "\n",
    "    for x in range(w):\n",
    "        for y in range(h):\n",
    "            v = img_gray[y, x]\n",
    "            if v != background_gray_color:\n",
    "                x_1 = x + 1.0 - xc\n",
    "                y_1 = y + 1.0 - yc;\n",
    "                cm02 += y_1 * y_1;\n",
    "                cm20 += x_1 * x_1;\n",
    "                cm11 += x_1 * y_1;\n",
    "\n",
    "    # princial quadratic momentums are the same as momentums moved to the center of gravity (Steiner's theorem)\n",
    "    # in the center of gravity the linear momentums are zero\n",
    "    cm11 = m11 - xc*yc*m00;\n",
    "    #print ('cm11:', cm11)\n",
    "\n",
    "    # symetric object\n",
    "    if cm20 == cm02:\n",
    "        #print ('cm20 == cm02')\n",
    "        return alpha\n",
    "\n",
    "    # symetric object in one axis\n",
    "    if cm11 == 0.0 and cm20 > cm02:\n",
    "        #print ('cm11 == 0.0 and cm20 > cm02')\n",
    "        alpha = 3.141593\n",
    "        return alpha\n",
    "\n",
    "    # symetric object in another axis\n",
    "    if cm11 == 0.0:\n",
    "        #print ('cm11 == 0.0')\n",
    "        return alpha\n",
    "\n",
    "    alpha = 0.5 * math.atan2(2.0 * cm11, (cm20 - cm02)) # = atan(y/x)\n",
    "\n",
    "    # adjust angle\n",
    "    alpha = 1.5707963 - alpha\n",
    "    return alpha"
   ]
  },
  {
   "cell_type": "code",
   "execution_count": 16,
   "metadata": {},
   "outputs": [],
   "source": [
    "# adapted from imutils.rotate_bound - use white background as default\n",
    "def rotate_image(image, angle):\n",
    "    # grab the dimensions of the image and then determine the\n",
    "    # center\n",
    "    (h, w) = image.shape[:2]\n",
    "    (cX, cY) = (w / 2, h / 2)\n",
    "\n",
    "    # grab the rotation matrix (applying the negative of the\n",
    "    # angle to rotate clockwise), then grab the sine and cosine\n",
    "    # (i.e., the rotation components of the matrix)\n",
    "    M = cv2.getRotationMatrix2D((cX, cY), -angle, 1.0)\n",
    "    cos = np.abs(M[0, 0])\n",
    "    sin = np.abs(M[0, 1])\n",
    "\n",
    "    # compute the new bounding dimensions of the image\n",
    "    nW = int((h * sin) + (w * cos))\n",
    "    nH = int((h * cos) + (w * sin))\n",
    "\n",
    "    # adjust the rotation matrix to take into account translation\n",
    "    M[0, 2] += (nW / 2) - cX\n",
    "    M[1, 2] += (nH / 2) - cY\n",
    "    \n",
    "    # white background\n",
    "    dst = np.full((nH, nW), 255, np.float)\n",
    "\n",
    "    # perform the actual rotation and return the image\n",
    "    return cv2.warpAffine(image, M, (nW, nH), dst=dst, borderMode=cv2.BORDER_TRANSPARENT)"
   ]
  },
  {
   "cell_type": "code",
   "execution_count": 17,
   "metadata": {},
   "outputs": [],
   "source": [
    "def crop_image(img_gray, background_gray_color):\n",
    "    \"\"\"\n",
    "    Takes gray image and returns cropped image.\n",
    "    \"\"\"\n",
    "    (h, w) = img_gray.shape[:2]\n",
    "    x1 = w - 1\n",
    "    y1 = h - 1\n",
    "    x2 = 0\n",
    "    y2 = 0\n",
    "    \n",
    "    for x in range(w):\n",
    "        for y in range(h):\n",
    "            color = img_gray[y,x]\n",
    "            if color != background_gray_color:                               \n",
    "                if x < x1:\n",
    "                    x1 = x\n",
    "                if x > x2:\n",
    "                    x2 = x\n",
    "                if y < y1:\n",
    "                    y1 = y\n",
    "                if y > y2:\n",
    "                    y2 = y\n",
    "    \n",
    "    cropped = img_gray[y1 : y2+1, x1 : x2+1]\n",
    "    return cropped"
   ]
  },
  {
   "cell_type": "code",
   "execution_count": 18,
   "metadata": {},
   "outputs": [],
   "source": [
    "def prepare_image_for_seed_fill(img_bw):\n",
    "    \"\"\"\n",
    "    Prepare binary image - 0 is background, 1 is object.\n",
    "    \"\"\"\n",
    "    img_bw_dest = np.where(img_bw == 0, 1, 0).astype(int)\n",
    "    return img_bw_dest\n",
    "\n",
    "\n",
    "def find_objects_using_seed_fill(img_bw):\n",
    "    \"\"\"\n",
    "    Detect objects from binary thresholded image using seed filling.\n",
    "    \"\"\"\n",
    "    (h, w) = img_bw.shape[:2]\n",
    "    # avoid recursion algorithm, which causes stack overflow for large objects,\n",
    "    # use limited stack to explore pixel space\n",
    "    stack_array = np.ndarray((30000,),int)\n",
    "    # start with 2, 0 is background, 1 are thresholded objects, >=2 will be detected objects\n",
    "    fill_color = 2\n",
    "    \n",
    "    for y in range(1, h-1):\n",
    "        for x in range(1, w-1):\n",
    "            color = img_bw[y, x]\n",
    "            if color == 1: # this is new objects\n",
    "                result = _seed_fill(img_bw, x, y, w, h, fill_color, stack_array)\n",
    "                if result:\n",
    "                    # prepare next color\n",
    "                    fill_color += 1\n",
    "                \n",
    "    # number of detected objects\n",
    "    return fill_color - 2\n",
    "\n",
    "\n",
    "def _seed_fill(img_bw, x, y, w, h, fill_color, stack_array):\n",
    "    \"\"\"\n",
    "    4-connected seed/flood fill algorithm avoiding recursion due to stack limit.\n",
    "    \"\"\"\n",
    "    # index to the stack with x or y coordinates\n",
    "    top_of_stack = -1;\n",
    "    max_top_of_stack = len(stack_array) - 8\n",
    "    color = 0\n",
    "    \n",
    "    while True:\n",
    "        if x > 0 and x < w-1 and y > 0 and y < h-1:\n",
    "            color = img_bw[y, x]\n",
    "        else:\n",
    "            color = 0 # black to ignore processing\n",
    "            \n",
    "        if color == 1: \n",
    "            # if not marked object pixel, then color the pixel with fill color\n",
    "            # and continue with seed fill to 4 directions\n",
    "            img_bw[y, x] = fill_color\n",
    "            \n",
    "            # search pixel neighbors\n",
    "            if top_of_stack < max_top_of_stack:\n",
    "                # push to stack - left\n",
    "                top_of_stack += 1; stack_array[top_of_stack] = x+1\n",
    "                top_of_stack += 1; stack_array[top_of_stack] = y\n",
    "                # push to stack - right\n",
    "                top_of_stack += 1; stack_array[top_of_stack] = x-1\n",
    "                top_of_stack += 1; stack_array[top_of_stack] = y\n",
    "                # push to stack - bottom\n",
    "                top_of_stack += 1; stack_array[top_of_stack] = x\n",
    "                top_of_stack += 1; stack_array[top_of_stack] = y+1          \n",
    "                # push to stack - top\n",
    "                top_of_stack += 1; stack_array[top_of_stack] = x\n",
    "                top_of_stack += 1; stack_array[top_of_stack] = y-1\n",
    "            else:\n",
    "                print ('Too large object detected, finish.')\n",
    "                return False\n",
    "\n",
    "        if top_of_stack == -1:\n",
    "            break\n",
    "        else:\n",
    "            # process stack\n",
    "            y = stack_array[top_of_stack]; top_of_stack -= 1\n",
    "            x = stack_array[top_of_stack]; top_of_stack -= 1\n",
    "\n",
    "    return True\n",
    "\n",
    "\n",
    "def find_objects_after_seed_fill(img_bw_seed):\n",
    "    \"\"\"\n",
    "    Find rectangular boundaries of objects found by seed fill.\n",
    "    \"\"\"\n",
    "    # key is color, value is map of x1,y1,x2,y2\n",
    "    found_objects = {}\n",
    "    \n",
    "    (h, w) = img_bw_seed.shape[:2]\n",
    "    \n",
    "    for y in range(0, h):\n",
    "        for x in range(0, w):\n",
    "            color = img_bw_seed[y, x]\n",
    "            if color == 0 or color == 1:\n",
    "                continue\n",
    "            \n",
    "            obj = found_objects[color] if color in found_objects else None\n",
    "            if obj is None:\n",
    "                obj = {'x1' : x, 'x2' : x, 'y1' : y, 'y2' : y}\n",
    "                found_objects[color] = obj\n",
    "            else:\n",
    "                x1 = obj['x1']\n",
    "                x2 = obj['x2']\n",
    "                y1 = obj['y1']\n",
    "                y2 = obj['y2']\n",
    "                \n",
    "                if x < x1:\n",
    "                    obj['x1'] = x\n",
    "                if x > x2:\n",
    "                    obj['x2'] = x\n",
    "                if y < y1:\n",
    "                    obj['y1'] = y\n",
    "                if y > y2:\n",
    "                    obj['y2'] = y\n",
    "                    \n",
    "    #print ('found_objects:', found_objects)\n",
    "                    \n",
    "    return found_objects                                      \n",
    "\n",
    "\n",
    "def extract_objects_after_seed_fill(found_objects, img_bw_seed, img_gray):\n",
    "    \"\"\"\n",
    "    Extract images of object found by seed fill.\n",
    "    \"\"\"\n",
    "    detected_images = []\n",
    "    \n",
    "    for fill_color, coords in found_objects.items():\n",
    "        x1 = coords['x1']\n",
    "        x2 = coords['x2']\n",
    "        y1 = coords['y1']\n",
    "        y2 = coords['y2']\n",
    "        w = x2 - x1\n",
    "        h = y2 - y1\n",
    "        \n",
    "        area = w*h\n",
    "        #print ('area:', area)\n",
    "        \n",
    "        # ignore small objects\n",
    "        if area < 100:\n",
    "            continue\n",
    "            \n",
    "        new_img = np.full((h,w), 255, np.float)\n",
    "        detected_images.append(new_img)\n",
    "        \n",
    "        for x in range(x1, x2):\n",
    "            for y in range(y1, y2):\n",
    "                color = img_bw_seed[y,x]\n",
    "                if color != fill_color:\n",
    "                    continue\n",
    "                new_img[y - y1,x - x1] = img_gray[y,x]\n",
    "    \n",
    "    return detected_images\n",
    "\n",
    "\n",
    "def extract_objects(img_gray, img_bw):\n",
    "    \"\"\"\n",
    "    Extract images of objects from gray image using thresholded image as binary mask.\n",
    "    \"\"\"\n",
    "    img_bw_seed = prepare_image_for_seed_fill(img_bw)\n",
    "    \n",
    "    n_objects = find_objects_using_seed_fill(img_bw_seed)\n",
    "    # print('Found:', n_objects)\n",
    "    if n_objects == 0:\n",
    "        raise('No object detected')\n",
    "\n",
    "    found_objects = find_objects_after_seed_fill(img_bw_seed)\n",
    "    extracted_images = extract_objects_after_seed_fill(found_objects, img_bw_seed, img_gray)\n",
    "    return extracted_images"
   ]
  },
  {
   "cell_type": "code",
   "execution_count": 19,
   "metadata": {},
   "outputs": [
    {
     "data": {
      "image/png": "[encoded data removed]",
      "text/plain": [
       "<Figure size 216x216 with 1 Axes>"
      ]
     },
     "metadata": {
      "needs_background": "light"
     },
     "output_type": "display_data"
    }
   ],
   "source": [
    "img2_extracted = extract_objects(img2, img2_bw)\n",
    "show_binary(img2_extracted[0])"
   ]
  },
  {
   "cell_type": "code",
   "execution_count": 20,
   "metadata": {},
   "outputs": [
    {
     "data": {
      "image/png": "[encoded data removed]",
      "text/plain": [
       "<Figure size 216x216 with 1 Axes>"
      ]
     },
     "metadata": {
      "needs_background": "light"
     },
     "output_type": "display_data"
    }
   ],
   "source": [
    "img1_extracted = extract_objects(img1, img1_bw)\n",
    "show_binary(img1_extracted[0])"
   ]
  },
  {
   "cell_type": "code",
   "execution_count": 21,
   "metadata": {},
   "outputs": [],
   "source": [
    "def get_vert_rotated_image(img_gray):\n",
    "    \"\"\"\n",
    "    Find object deviation using mechanical momentums and rotate image. Enhance edges using erosion.\n",
    "    \"\"\"\n",
    "    alpha = get_object_deviation(img_gray, 255)\n",
    "    alpha_degrees = 180.0*alpha/math.pi\n",
    "    rotated_img = rotate_image(img_gray, alpha_degrees)\n",
    "    # erosion - trim border and garbage after rotating\n",
    "    kernel = np.ones((2, 2), np.uint8)\n",
    "    rotated_img = cv2.erode(rotated_img, kernel, cv2.BORDER_REFLECT)  \n",
    "    cropped_img = crop_image(rotated_img, 255)\n",
    "    return cropped_img"
   ]
  },
  {
   "cell_type": "code",
   "execution_count": 22,
   "metadata": {},
   "outputs": [
    {
     "data": {
      "image/png": "[encoded data removed]",
      "text/plain": [
       "<Figure size 216x216 with 1 Axes>"
      ]
     },
     "metadata": {
      "needs_background": "light"
     },
     "output_type": "display_data"
    }
   ],
   "source": [
    "# rotate chromosome to vertical orientation\n",
    "img1_normalized = get_vert_rotated_image(img1_extracted[0])\n",
    "show_binary(img1_normalized)"
   ]
  },
  {
   "cell_type": "code",
   "execution_count": 23,
   "metadata": {},
   "outputs": [
    {
     "data": {
      "image/png": "[encoded data removed]",
      "text/plain": [
       "<Figure size 216x216 with 1 Axes>"
      ]
     },
     "metadata": {
      "needs_background": "light"
     },
     "output_type": "display_data"
    }
   ],
   "source": [
    "## rotate chromosome to vertical orientation\n",
    "img2_normalized = get_vert_rotated_image(img2_extracted[0])\n",
    "show_binary(img2_normalized)"
   ]
  },
  {
   "cell_type": "code",
   "execution_count": 24,
   "metadata": {},
   "outputs": [],
   "source": [
    "# load all images and perform the preprocessing\n",
    "def load_chromosomes_in_classes(root_dir, is_train_set):\n",
    "    \"\"\"\n",
    "    Return mapping with class ID as key of type string -> list of image bytes.\n",
    "    For train set, create new images using flipping\n",
    "    \"\"\"\n",
    "    chromosomes_classes = {}\n",
    "    \n",
    "    for class_dir in os.listdir(root_dir):\n",
    "        class_name = os.path.basename(class_dir)\n",
    "        \n",
    "        img_list = []\n",
    "        chromosomes_classes[class_name] = img_list\n",
    "        \n",
    "        for chrom_file in os.listdir(os.path.join(root_dir, class_dir)):\n",
    "            chrom_file_abs = os.path.abspath(os.path.join(root_dir, class_dir, chrom_file))           \n",
    "            img_chrom = cv2.imread(chrom_file_abs, cv2.IMREAD_GRAYSCALE)\n",
    "            \n",
    "            ret, img_bw_mask = cv2.threshold(255 - img_chrom, 128, 255, cv2.THRESH_TRIANGLE)            \n",
    "            img_extracted_list = extract_objects(img_chrom, img_bw_mask)\n",
    "            \n",
    "            if len(img_extracted_list) == 0:\n",
    "                print ('ERROR: No object found:', chrom_file_abs, len(img_extracted_list))\n",
    "            else:\n",
    "                img_extracted = img_extracted_list[0]\n",
    "                #print ('img_extracted:', img_extracted)\n",
    "                img_vertical = get_vert_rotated_image(img_extracted)\n",
    "                img_list.append({'file' : chrom_file, 'data' : img_vertical})\n",
    "                area = img_vertical.shape[0] * img_vertical.shape[1]\n",
    "                \n",
    "                # append flipped images\n",
    "                if is_train_set:\n",
    "                    img_list.append({'file' : chrom_file, 'data' : cv2.flip(img_vertical, 0)})\n",
    "                    img_list.append({'file' : chrom_file, 'data' : cv2.flip(img_vertical, 1)})\n",
    "                    img_list.append({'file' : chrom_file, 'data' : cv2.flip(img_vertical, -1)})\n",
    "            \n",
    "    return chromosomes_classes"
   ]
  },
  {
   "cell_type": "code",
   "execution_count": 25,
   "metadata": {},
   "outputs": [
    {
     "name": "stdout",
     "output_type": "stream",
     "text": [
      "Loading images...\n",
      "Done.\n"
     ]
    }
   ],
   "source": [
    "print ('Loading images...')\n",
    "chromosomes_labeled_train = load_chromosomes_in_classes(os.path.join('classificationDB', 'Train'), True)\n",
    "chromosomes_labeled_test = load_chromosomes_in_classes(os.path.join('classificationDB', 'Test'), False)\n",
    "chromosomes_labeled_val = load_chromosomes_in_classes(os.path.join('classificationDB', 'Val'), False)\n",
    "print('Done.')"
   ]
  },
  {
   "cell_type": "code",
   "execution_count": 26,
   "metadata": {},
   "outputs": [],
   "source": [
    "#print (len(chromosomes_labeled_train))\n",
    "#print (len(chromosomes_labeled_test))\n",
    "#print (len(chromosomes_labeled_val))\n",
    "#imgs = chromosomes_labeled_train['1']\n",
    "#for i in range(100):\n",
    "#    print (imgs[i]['file'])\n",
    "#    show_binary(imgs[i]['data'])"
   ]
  },
  {
   "cell_type": "code",
   "execution_count": 27,
   "metadata": {},
   "outputs": [],
   "source": [
    "# get dimension distributions\n",
    "width_list = []\n",
    "height_list = []\n",
    "\n",
    "def detect_dimensions(chromosomes_labeled, width_list, height_list):\n",
    "    for chrom_list in chromosomes_labeled.values():\n",
    "        for chrom in chrom_list:\n",
    "            data = chrom['data']\n",
    "            if data is None:\n",
    "                continue\n",
    "            (h, w) = data.shape[:2]\n",
    "            width_list.append(w)\n",
    "            height_list.append(h)\n",
    "            \n",
    "            #if w > 50:\n",
    "            #    show_binary(data)\n",
    "\n",
    "detect_dimensions(chromosomes_labeled_train, width_list, height_list)\n",
    "detect_dimensions(chromosomes_labeled_test, width_list, height_list)\n",
    "detect_dimensions(chromosomes_labeled_val, width_list, height_list)"
   ]
  },
  {
   "cell_type": "code",
   "execution_count": 28,
   "metadata": {},
   "outputs": [
    {
     "data": {
      "image/png": "[encoded data removed]",
      "text/plain": [
       "<Figure size 432x288 with 1 Axes>"
      ]
     },
     "metadata": {
      "needs_background": "light"
     },
     "output_type": "display_data"
    }
   ],
   "source": [
    "# What are typical dimensions for image widths and heights?\n",
    "plt.hist(width_list)\n",
    "plt.show()"
   ]
  },
  {
   "cell_type": "code",
   "execution_count": 29,
   "metadata": {},
   "outputs": [
    {
     "data": {
      "image/png": "[encoded data removed]",
      "text/plain": [
       "<Figure size 432x288 with 1 Axes>"
      ]
     },
     "metadata": {
      "needs_background": "light"
     },
     "output_type": "display_data"
    }
   ],
   "source": [
    "plt.hist(height_list)\n",
    "plt.show()"
   ]
  },
  {
   "cell_type": "code",
   "execution_count": 30,
   "metadata": {},
   "outputs": [],
   "source": [
    "# select image dimensions\n",
    "max_width = 40\n",
    "max_height = 160\n",
    "\n",
    "# number of paired chromosomes as class IDs\n",
    "n_classes = 23\n",
    "\n",
    "# convert image into input vector\n",
    "def convert_image_to_vector(chrom_data, dest_vector_data):\n",
    "    (h, w) = chrom_data.shape[:2]\n",
    "    (h_dest, w_dest) = dest_vector_data.shape[:2]\n",
    "    \n",
    "    for x in range(w):\n",
    "        for y in range(h):\n",
    "            # ignore bigger image\n",
    "            if x >= w_dest or y >= h_dest:\n",
    "                continue\n",
    "            # scale image to [0, 1]\n",
    "            dest_vector_data[y, x] = chrom_data[y, x] / 255.0\n",
    "\n",
    "            \n",
    "def convert_class_to_category(class_id):\n",
    "    y = []\n",
    "    \n",
    "    for i in range(n_classes):\n",
    "        y.append(1 if class_id == str(i) else 0)\n",
    "        \n",
    "    return np.asarray(y, dtype=np.float)\n",
    "    \n",
    "\n",
    "def prepare_dataset(chromosomes_labeled, max_width, max_height):\n",
    "    X = []\n",
    "    y = []\n",
    "    \n",
    "    for class_id, chrom_list in chromosomes_labeled.items():\n",
    "        for chrom in chrom_list:\n",
    "            chrom_data = chrom['data']\n",
    "                   \n",
    "            # fill with 1 - white color 255 scaled to value 1\n",
    "            dest_vector_data = np.full((max_height, max_width), 1, dtype=np.float)\n",
    "            convert_image_to_vector(chrom_data, dest_vector_data)\n",
    "            X.append(np.reshape(dest_vector_data, ((max_height, max_width, 1))))            \n",
    "            categories = convert_class_to_category(class_id)\n",
    "            y.append(categories)\n",
    "        \n",
    "    return np.asarray(X), np.asarray(y)"
   ]
  },
  {
   "cell_type": "code",
   "execution_count": 31,
   "metadata": {},
   "outputs": [
    {
     "name": "stdout",
     "output_type": "stream",
     "text": [
      "X_train: (14720, 160, 40, 1)\n",
      "y_train: (14720, 23)\n",
      "X_test: (920, 160, 40, 1)\n",
      "y_test: (920, 23)\n",
      "X_val: (874, 160, 40, 1)\n",
      "y_val: (874, 23)\n"
     ]
    }
   ],
   "source": [
    "X_train, y_train = prepare_dataset(chromosomes_labeled_train, max_width, max_height)\n",
    "X_test, y_test = prepare_dataset(chromosomes_labeled_test, max_width, max_height)\n",
    "X_val, y_val = prepare_dataset(chromosomes_labeled_val, max_width, max_height)\n",
    "\n",
    "print ('X_train:', X_train.shape)\n",
    "print ('y_train:', y_train.shape)\n",
    "print ('X_test:', X_test.shape)\n",
    "print ('y_test:', y_test.shape)\n",
    "print ('X_val:', X_val.shape)\n",
    "print ('y_val:', y_val.shape)"
   ]
  },
  {
   "cell_type": "code",
   "execution_count": 47,
   "metadata": {},
   "outputs": [
    {
     "name": "stdout",
     "output_type": "stream",
     "text": [
      "Model: \"sequential_1\"\n",
      "_________________________________________________________________\n",
      "Layer (type)                 Output Shape              Param #   \n",
      "=================================================================\n",
      "conv2d_2 (Conv2D)            (None, 158, 38, 32)       320       \n",
      "_________________________________________________________________\n",
      "max_pooling2d_2 (MaxPooling2 (None, 79, 19, 32)        0         \n",
      "_________________________________________________________________\n",
      "dropout_4 (Dropout)          (None, 79, 19, 32)        0         \n",
      "_________________________________________________________________\n",
      "conv2d_3 (Conv2D)            (None, 77, 17, 32)        9248      \n",
      "_________________________________________________________________\n",
      "max_pooling2d_3 (MaxPooling2 (None, 38, 8, 32)         0         \n",
      "_________________________________________________________________\n",
      "dropout_5 (Dropout)          (None, 38, 8, 32)         0         \n",
      "_________________________________________________________________\n",
      "flatten_1 (Flatten)          (None, 9728)              0         \n",
      "_________________________________________________________________\n",
      "dense_3 (Dense)              (None, 128)               1245312   \n",
      "_________________________________________________________________\n",
      "dropout_6 (Dropout)          (None, 128)               0         \n",
      "_________________________________________________________________\n",
      "dense_4 (Dense)              (None, 23)                2967      \n",
      "=================================================================\n",
      "Total params: 1,257,847\n",
      "Trainable params: 1,257,847\n",
      "Non-trainable params: 0\n",
      "_________________________________________________________________\n"
     ]
    }
   ],
   "source": [
    "# Keras (from TensorFlow) imports for the dataset and building NN\n",
    "from tensorflow.keras import Sequential\n",
    "from tensorflow.keras.layers import Dense, Dropout, Activation, Conv2D, MaxPooling2D, Flatten\n",
    "from tensorflow.keras.losses import categorical_crossentropy\n",
    "from tensorflow.keras.optimizers import Adam\n",
    "\n",
    "# learn using CNN\n",
    "model = Sequential()\n",
    "\n",
    "model.add(Conv2D(32, (3, 3), activation='relu', input_shape=(max_height, max_width, 1)))\n",
    "model.add(MaxPooling2D((2, 2)))\n",
    "model.add(Dropout(0.2))\n",
    "\n",
    "model.add(Conv2D(32, (3, 3), activation='relu', input_shape=(max_height, max_width, 1)))\n",
    "model.add(MaxPooling2D((2, 2)))\n",
    "model.add(Dropout(0.2))\n",
    "\n",
    "model.add(Flatten())\n",
    "\n",
    "model.add(Dense(128, activation='sigmoid'))\n",
    "model.add(Dropout(0.2))\n",
    "\n",
    "model.add(Dense(n_classes, activation='softmax'))\n",
    "\n",
    "model.summary()"
   ]
  },
  {
   "cell_type": "code",
   "execution_count": 48,
   "metadata": {},
   "outputs": [],
   "source": [
    "# compiling the sequential model\n",
    "model.compile(\n",
    "    loss='categorical_crossentropy', \n",
    "    metrics=['accuracy'], \n",
    "    optimizer='adam'\n",
    ")"
   ]
  },
  {
   "cell_type": "code",
   "execution_count": 51,
   "metadata": {},
   "outputs": [
    {
     "name": "stdout",
     "output_type": "stream",
     "text": [
      "Train on 14720 samples, validate on 874 samples\n",
      "Epoch 1/30\n",
      "14720/14720 [==============================] - 64s 4ms/sample - loss: 0.7073 - accuracy: 0.7304 - val_loss: 1.4382 - val_accuracy: 0.5240\n",
      "Epoch 2/30\n",
      "14720/14720 [==============================] - 66s 4ms/sample - loss: 0.6929 - accuracy: 0.7368 - val_loss: 1.4268 - val_accuracy: 0.5217\n",
      "Epoch 3/30\n",
      "14720/14720 [==============================] - 66s 5ms/sample - loss: 0.6819 - accuracy: 0.7399 - val_loss: 1.4475 - val_accuracy: 0.5183\n",
      "Epoch 4/30\n",
      "14720/14720 [==============================] - 71s 5ms/sample - loss: 0.6670 - accuracy: 0.7459 - val_loss: 1.4214 - val_accuracy: 0.5172\n",
      "Epoch 5/30\n",
      "14720/14720 [==============================] - 74s 5ms/sample - loss: 0.6537 - accuracy: 0.7497 - val_loss: 1.4226 - val_accuracy: 0.5423\n",
      "Epoch 6/30\n",
      "14720/14720 [==============================] - 65s 4ms/sample - loss: 0.6457 - accuracy: 0.7541 - val_loss: 1.4606 - val_accuracy: 0.5355\n",
      "Epoch 7/30\n",
      "14720/14720 [==============================] - 66s 4ms/sample - loss: 0.6331 - accuracy: 0.7571 - val_loss: 1.4187 - val_accuracy: 0.5423\n",
      "Epoch 8/30\n",
      "14720/14720 [==============================] - 67s 5ms/sample - loss: 0.6351 - accuracy: 0.7554 - val_loss: 1.4427 - val_accuracy: 0.5263\n",
      "Epoch 9/30\n",
      "14720/14720 [==============================] - 79s 5ms/sample - loss: 0.6295 - accuracy: 0.7580 - val_loss: 1.4406 - val_accuracy: 0.5469\n",
      "Epoch 10/30\n",
      "14720/14720 [==============================] - 67s 5ms/sample - loss: 0.6133 - accuracy: 0.7673 - val_loss: 1.4295 - val_accuracy: 0.5469\n",
      "Epoch 11/30\n",
      "14720/14720 [==============================] - 65s 4ms/sample - loss: 0.6098 - accuracy: 0.7658 - val_loss: 1.4388 - val_accuracy: 0.5332\n",
      "Epoch 12/30\n",
      "14720/14720 [==============================] - 65s 4ms/sample - loss: 0.5942 - accuracy: 0.7659 - val_loss: 1.4495 - val_accuracy: 0.5366\n",
      "Epoch 13/30\n",
      "14720/14720 [==============================] - 70s 5ms/sample - loss: 0.5864 - accuracy: 0.7721 - val_loss: 1.4739 - val_accuracy: 0.5332\n",
      "Epoch 14/30\n",
      "14720/14720 [==============================] - 71s 5ms/sample - loss: 0.5784 - accuracy: 0.7745 - val_loss: 1.4553 - val_accuracy: 0.5343\n",
      "Epoch 15/30\n",
      "14720/14720 [==============================] - 66s 4ms/sample - loss: 0.5765 - accuracy: 0.7751 - val_loss: 1.4813 - val_accuracy: 0.5355\n",
      "Epoch 16/30\n",
      "14720/14720 [==============================] - 66s 4ms/sample - loss: 0.5735 - accuracy: 0.7767 - val_loss: 1.4513 - val_accuracy: 0.5435\n",
      "Epoch 17/30\n",
      "14720/14720 [==============================] - 67s 5ms/sample - loss: 0.5616 - accuracy: 0.7826 - val_loss: 1.4602 - val_accuracy: 0.5503\n",
      "Epoch 18/30\n",
      "14720/14720 [==============================] - 66s 4ms/sample - loss: 0.5598 - accuracy: 0.7802 - val_loss: 1.4865 - val_accuracy: 0.5355\n",
      "Epoch 19/30\n",
      "14720/14720 [==============================] - 66s 4ms/sample - loss: 0.5489 - accuracy: 0.7848 - val_loss: 1.4559 - val_accuracy: 0.5675\n",
      "Epoch 20/30\n",
      "14720/14720 [==============================] - 66s 4ms/sample - loss: 0.5464 - accuracy: 0.7870 - val_loss: 1.4956 - val_accuracy: 0.5595\n",
      "Epoch 21/30\n",
      "14720/14720 [==============================] - 66s 5ms/sample - loss: 0.5338 - accuracy: 0.7912 - val_loss: 1.5120 - val_accuracy: 0.5469\n",
      "Epoch 22/30\n",
      "14720/14720 [==============================] - 66s 4ms/sample - loss: 0.5371 - accuracy: 0.7891 - val_loss: 1.4967 - val_accuracy: 0.5400\n",
      "Epoch 23/30\n",
      "14720/14720 [==============================] - 66s 4ms/sample - loss: 0.5294 - accuracy: 0.7927 - val_loss: 1.5094 - val_accuracy: 0.5446\n",
      "Epoch 24/30\n",
      "14720/14720 [==============================] - 66s 4ms/sample - loss: 0.5204 - accuracy: 0.7942 - val_loss: 1.5145 - val_accuracy: 0.5526\n",
      "Epoch 25/30\n",
      "14720/14720 [==============================] - 66s 5ms/sample - loss: 0.5139 - accuracy: 0.7960 - val_loss: 1.5255 - val_accuracy: 0.5515\n",
      "Epoch 26/30\n",
      "14720/14720 [==============================] - 66s 4ms/sample - loss: 0.5171 - accuracy: 0.7962 - val_loss: 1.5154 - val_accuracy: 0.5526\n",
      "Epoch 27/30\n",
      "14720/14720 [==============================] - 66s 4ms/sample - loss: 0.5188 - accuracy: 0.7976 - val_loss: 1.5054 - val_accuracy: 0.5481\n",
      "Epoch 28/30\n",
      "14720/14720 [==============================] - 64s 4ms/sample - loss: 0.5022 - accuracy: 0.7999 - val_loss: 1.5105 - val_accuracy: 0.5595\n",
      "Epoch 29/30\n",
      "14720/14720 [==============================] - 63s 4ms/sample - loss: 0.5006 - accuracy: 0.7999 - val_loss: 1.5053 - val_accuracy: 0.5503\n",
      "Epoch 30/30\n",
      "14720/14720 [==============================] - 63s 4ms/sample - loss: 0.4958 - accuracy: 0.8005 - val_loss: 1.5253 - val_accuracy: 0.5618\n"
     ]
    }
   ],
   "source": [
    "# use e.g. 100 epochs\n",
    "epochs = 30\n",
    "batch_size = 128\n",
    "\n",
    "# training the model and saving metrics in history\n",
    "history = model.fit(\n",
    "    X_train, \n",
    "    y_train,\n",
    "    batch_size = batch_size,\n",
    "    epochs = epochs,\n",
    "    verbose = 1,\n",
    "    validation_data=(X_val, y_val))"
   ]
  },
  {
   "cell_type": "code",
   "execution_count": 52,
   "metadata": {},
   "outputs": [],
   "source": [
    "def plot_model_history(model_history):\n",
    "    history_dict = model_history.history\n",
    "\n",
    "    loss_values = history_dict['loss']\n",
    "    val_loss_values = history_dict['val_loss']\n",
    "    epochs = range(1, len(loss_values) + 1)\n",
    "\n",
    "    plt.plot(epochs, loss_values, 'b', label='Training loss', color='blue')\n",
    "    plt.plot(epochs, val_loss_values, 'b', label='Validation loss', color='yellow')\n",
    "    plt.title('Training and validation loss')\n",
    "    plt.xlabel('Epochs')\n",
    "    plt.ylabel('Loss')\n",
    "    plt.legend()\n",
    "    plt.show()"
   ]
  },
  {
   "cell_type": "code",
   "execution_count": 53,
   "metadata": {},
   "outputs": [
    {
     "data": {
      "image/png": "[encoded data removed]",
      "text/plain": [
       "<Figure size 432x288 with 1 Axes>"
      ]
     },
     "metadata": {
      "needs_background": "light"
     },
     "output_type": "display_data"
    }
   ],
   "source": [
    "plot_model_history(history)"
   ]
  },
  {
   "cell_type": "code",
   "execution_count": 58,
   "metadata": {},
   "outputs": [],
   "source": [
    "# Evaluate testing data loss and accuracy\n",
    "loss = model.evaluate(X_test, y_test, verbose=0)"
   ]
  },
  {
   "cell_type": "code",
   "execution_count": 59,
   "metadata": {},
   "outputs": [
    {
     "data": {
      "text/plain": [
       "['loss', 'accuracy']"
      ]
     },
     "execution_count": 59,
     "metadata": {},
     "output_type": "execute_result"
    }
   ],
   "source": [
    "model.metrics_names"
   ]
  },
  {
   "cell_type": "code",
   "execution_count": 60,
   "metadata": {},
   "outputs": [
    {
     "data": {
      "text/plain": [
       "[1.31489170945209, 0.6054348]"
      ]
     },
     "execution_count": 60,
     "metadata": {},
     "output_type": "execute_result"
    }
   ],
   "source": [
    "loss"
   ]
  },
  {
   "cell_type": "code",
   "execution_count": 61,
   "metadata": {},
   "outputs": [],
   "source": [
    "# Training and validation data:\n",
    "# loss: 0.4958 - accuracy: 0.8005 - val_loss: 1.5253 - val_accuracy: 0.5618"
   ]
  },
  {
   "cell_type": "code",
   "execution_count": null,
   "metadata": {},
   "outputs": [],
   "source": []
  }
 ],
 "metadata": {
  "kernelspec": {
   "display_name": "Python 3",
   "language": "python",
   "name": "python3"
  },
  "language_info": {
   "codemirror_mode": {
    "name": "ipython",
    "version": 3
   },
   "file_extension": ".py",
   "mimetype": "text/x-python",
   "name": "python",
   "nbconvert_exporter": "python",
   "pygments_lexer": "ipython3",
   "version": "3.6.8"
  }
 },
 "nbformat": 4,
 "nbformat_minor": 2
}
